{
 "cells": [
  {
   "cell_type": "markdown",
   "metadata": {},
   "source": [
    "# Introduction\n",
    "Models are trained in google colab with batch_size of 200-700. For online prediction, we only need batch_size of 1.\n",
    "Here we recombined models in "
   ]
  },
  {
   "cell_type": "markdown",
   "metadata": {},
   "source": [
    "### Get source folder and append to sys directory"
   ]
  },
  {
   "cell_type": "code",
   "execution_count": 1,
   "metadata": {},
   "outputs": [
    {
     "output_type": "stream",
     "name": "stdout",
     "text": [
      "/mnt/4ba37af6-51fd-47bc-8321-8c500c229114/study/School/KHOA LUAN TOT NGHIEP/runnable_program\n"
     ]
    }
   ],
   "source": [
    "from __future__ import print_function\n",
    "import os\n",
    "import sys\n",
    "PROJ_ROOT = os.path.join(os.pardir)\n",
    "print(os.path.abspath(PROJ_ROOT))\n",
    "src_dir = os.path.join(PROJ_ROOT, \"src\")\n",
    "sys.path.append(src_dir)\n",
    "# Data path example\n",
    "#pump_data_path = os.path.join(PROJ_ROOT,\n",
    "#                              \"data\",\n",
    "#                              \"raw\",\n",
    "#                              \"pumps_train_values.csv\")"
   ]
  },
  {
   "cell_type": "markdown",
   "metadata": {},
   "source": [
    "### Imports\n",
    "Import libraries and write settings here."
   ]
  },
  {
   "cell_type": "code",
   "execution_count": 2,
   "metadata": {},
   "outputs": [],
   "source": [
    "# Data manipulation\n",
    "import pandas as pd\n",
    "import numpy as np\n",
    "import tensorflow as tf\n",
    "from tensorflow import keras\n",
    "from tensorflow.keras import layers\n",
    "import sklearn\n",
    "import random\n",
    "\n",
    "# Options for pandas\n",
    "pd.options.display.max_columns = 50\n",
    "pd.options.display.max_rows = 30\n",
    "# Display all cell outputs\n",
    "from IPython.core.interactiveshell import InteractiveShell\n",
    "InteractiveShell.ast_node_interactivity = 'all'\n",
    "from IPython import get_ipython\n",
    "ipython = get_ipython()\n",
    "# autoreload extension\n",
    "if 'autoreload' not in ipython.extension_manager.loaded:\n",
    "    %load_ext autoreload\n",
    "%autoreload 1\n",
    "# Use %aimport module to reload each module\n",
    "%aimport data.read_data\n",
    "from data.read_data import read_data_by_type\n",
    "from data.create_load_transform_processed_data import load_reshaped_array, create_tensorflow_dataset\n",
    "# Visualizations\n",
    "import matplotlib.pyplot as plt"
   ]
  },
  {
   "cell_type": "code",
   "execution_count": 3,
   "metadata": {},
   "outputs": [
    {
     "output_type": "execute_result",
     "data": {
      "text/plain": [
       "                              CO  NO2  PM25  AQI_h AQI_h_Polutant  AQI_h_I  \\\n",
       "site_id time                                                                 \n",
       "30      2020-12-05 00:00:00  2.0  7.0  11.0    7.0            NO2      1.0   \n",
       "        2020-12-05 01:00:00  1.0  6.0  11.0   11.0           PM25      1.0   \n",
       "        2020-12-05 02:00:00  1.0  6.0  13.0   13.0           PM25      1.0   \n",
       "        2020-12-05 03:00:00  1.0  6.0  18.0   18.0           PM25      1.0   \n",
       "        2020-12-05 04:00:00  1.0  7.0  17.0   17.0           PM25      1.0   \n",
       "...                          ...  ...   ...    ...            ...      ...   \n",
       "36      2021-06-23 11:00:00  5.0  8.0  16.0   16.0           PM25      1.0   \n",
       "        2021-06-23 12:00:00  5.0  6.0  14.0   14.0           PM25      1.0   \n",
       "        2021-06-23 13:00:00  3.0  6.0   8.0    8.0           PM25      1.0   \n",
       "        2021-06-23 14:00:00  2.0  7.0   5.0    7.0            NO2      1.0   \n",
       "        2021-06-23 15:00:00  3.0  7.0   3.0    7.0            NO2      1.0   \n",
       "\n",
       "                            AQI_h_label  \n",
       "site_id time                             \n",
       "30      2020-12-05 00:00:00        Good  \n",
       "        2020-12-05 01:00:00        Good  \n",
       "        2020-12-05 02:00:00        Good  \n",
       "        2020-12-05 03:00:00        Good  \n",
       "        2020-12-05 04:00:00        Good  \n",
       "...                                 ...  \n",
       "36      2021-06-23 11:00:00        Good  \n",
       "        2021-06-23 12:00:00        Good  \n",
       "        2021-06-23 13:00:00        Good  \n",
       "        2021-06-23 14:00:00        Good  \n",
       "        2021-06-23 15:00:00        Good  \n",
       "\n",
       "[158104 rows x 7 columns]"
      ],
      "text/html": "<div>\n<style scoped>\n    .dataframe tbody tr th:only-of-type {\n        vertical-align: middle;\n    }\n\n    .dataframe tbody tr th {\n        vertical-align: top;\n    }\n\n    .dataframe thead th {\n        text-align: right;\n    }\n</style>\n<table border=\"1\" class=\"dataframe\">\n  <thead>\n    <tr style=\"text-align: right;\">\n      <th></th>\n      <th></th>\n      <th>CO</th>\n      <th>NO2</th>\n      <th>PM25</th>\n      <th>AQI_h</th>\n      <th>AQI_h_Polutant</th>\n      <th>AQI_h_I</th>\n      <th>AQI_h_label</th>\n    </tr>\n    <tr>\n      <th>site_id</th>\n      <th>time</th>\n      <th></th>\n      <th></th>\n      <th></th>\n      <th></th>\n      <th></th>\n      <th></th>\n      <th></th>\n    </tr>\n  </thead>\n  <tbody>\n    <tr>\n      <th rowspan=\"5\" valign=\"top\">30</th>\n      <th>2020-12-05 00:00:00</th>\n      <td>2.0</td>\n      <td>7.0</td>\n      <td>11.0</td>\n      <td>7.0</td>\n      <td>NO2</td>\n      <td>1.0</td>\n      <td>Good</td>\n    </tr>\n    <tr>\n      <th>2020-12-05 01:00:00</th>\n      <td>1.0</td>\n      <td>6.0</td>\n      <td>11.0</td>\n      <td>11.0</td>\n      <td>PM25</td>\n      <td>1.0</td>\n      <td>Good</td>\n    </tr>\n    <tr>\n      <th>2020-12-05 02:00:00</th>\n      <td>1.0</td>\n      <td>6.0</td>\n      <td>13.0</td>\n      <td>13.0</td>\n      <td>PM25</td>\n      <td>1.0</td>\n      <td>Good</td>\n    </tr>\n    <tr>\n      <th>2020-12-05 03:00:00</th>\n      <td>1.0</td>\n      <td>6.0</td>\n      <td>18.0</td>\n      <td>18.0</td>\n      <td>PM25</td>\n      <td>1.0</td>\n      <td>Good</td>\n    </tr>\n    <tr>\n      <th>2020-12-05 04:00:00</th>\n      <td>1.0</td>\n      <td>7.0</td>\n      <td>17.0</td>\n      <td>17.0</td>\n      <td>PM25</td>\n      <td>1.0</td>\n      <td>Good</td>\n    </tr>\n    <tr>\n      <th>...</th>\n      <th>...</th>\n      <td>...</td>\n      <td>...</td>\n      <td>...</td>\n      <td>...</td>\n      <td>...</td>\n      <td>...</td>\n      <td>...</td>\n    </tr>\n    <tr>\n      <th rowspan=\"5\" valign=\"top\">36</th>\n      <th>2021-06-23 11:00:00</th>\n      <td>5.0</td>\n      <td>8.0</td>\n      <td>16.0</td>\n      <td>16.0</td>\n      <td>PM25</td>\n      <td>1.0</td>\n      <td>Good</td>\n    </tr>\n    <tr>\n      <th>2021-06-23 12:00:00</th>\n      <td>5.0</td>\n      <td>6.0</td>\n      <td>14.0</td>\n      <td>14.0</td>\n      <td>PM25</td>\n      <td>1.0</td>\n      <td>Good</td>\n    </tr>\n    <tr>\n      <th>2021-06-23 13:00:00</th>\n      <td>3.0</td>\n      <td>6.0</td>\n      <td>8.0</td>\n      <td>8.0</td>\n      <td>PM25</td>\n      <td>1.0</td>\n      <td>Good</td>\n    </tr>\n    <tr>\n      <th>2021-06-23 14:00:00</th>\n      <td>2.0</td>\n      <td>7.0</td>\n      <td>5.0</td>\n      <td>7.0</td>\n      <td>NO2</td>\n      <td>1.0</td>\n      <td>Good</td>\n    </tr>\n    <tr>\n      <th>2021-06-23 15:00:00</th>\n      <td>3.0</td>\n      <td>7.0</td>\n      <td>3.0</td>\n      <td>7.0</td>\n      <td>NO2</td>\n      <td>1.0</td>\n      <td>Good</td>\n    </tr>\n  </tbody>\n</table>\n<p>158104 rows × 7 columns</p>\n</div>"
     },
     "metadata": {},
     "execution_count": 3
    }
   ],
   "source": [
    "data = read_data_by_type(PROJ_ROOT=PROJ_ROOT,data_type=\"interim\", output_type=\"dataframe\")\n",
    "data"
   ]
  },
  {
   "cell_type": "code",
   "execution_count": 4,
   "metadata": {},
   "outputs": [
    {
     "output_type": "execute_result",
     "data": {
      "text/plain": [
       "MinMaxScaler(feature_range=(-1, 1))"
      ]
     },
     "metadata": {},
     "execution_count": 4
    },
    {
     "output_type": "execute_result",
     "data": {
      "text/plain": [
       "MinMaxScaler(feature_range=(-1, 1))"
      ]
     },
     "metadata": {},
     "execution_count": 4
    }
   ],
   "source": [
    "from sklearn.preprocessing import MinMaxScaler\n",
    "scaler = MinMaxScaler(feature_range=(-1,1))\n",
    "scaler_PM25 = MinMaxScaler(feature_range=(-1,1))\n",
    "scaler_PM25.fit(data['PM25'].values.reshape(-1, 1))\n",
    "scaler_AQI = MinMaxScaler(feature_range=(-1,1))\n",
    "scaler_AQI.fit(data['AQI_h'].values.reshape(-1, 1))"
   ]
  },
  {
   "cell_type": "markdown",
   "metadata": {},
   "source": [
    "# Analysis/Modeling"
   ]
  },
  {
   "cell_type": "code",
   "execution_count": 5,
   "metadata": {},
   "outputs": [],
   "source": [
    "# What I need to do: Read all models and their weights\n",
    "# save them as a new model with included weights\n",
    "# Check the performance of saved models with loaded models"
   ]
  },
  {
   "cell_type": "code",
   "execution_count": 7,
   "metadata": {},
   "outputs": [
    {
     "output_type": "stream",
     "name": "stdout",
     "text": [
      "5\n",
      "[[[-0.76        0.          0.         ... -0.55393939 -0.55022222\n",
      "   -0.46533333]\n",
      "  [-0.78666667  0.          0.         ... -0.57672727 -0.57111111\n",
      "   -0.48155556]\n",
      "  [-0.79733333  0.          0.         ... -0.6009697  -0.59422222\n",
      "   -0.49933333]\n",
      "  [-0.94133333  0.          0.         ... -0.62472727 -0.61733333\n",
      "   -0.52288889]\n",
      "  [-0.86666667  0.          0.         ... -0.66157576 -0.65111111\n",
      "   -0.55111111]]\n",
      "\n",
      " [[-0.78666667  0.          0.         ... -0.57672727 -0.57111111\n",
      "   -0.48155556]\n",
      "  [-0.79733333  0.          0.         ... -0.6009697  -0.59422222\n",
      "   -0.49933333]\n",
      "  [-0.94133333  0.          0.         ... -0.62472727 -0.61733333\n",
      "   -0.52288889]\n",
      "  [-0.86666667  0.          0.         ... -0.66157576 -0.65111111\n",
      "   -0.55111111]\n",
      "  [-0.824       0.          0.         ... -0.69163636 -0.67866667\n",
      "   -0.57466667]]\n",
      "\n",
      " [[-0.79733333  0.          0.         ... -0.6009697  -0.59422222\n",
      "   -0.49933333]\n",
      "  [-0.94133333  0.          0.         ... -0.62472727 -0.61733333\n",
      "   -0.52288889]\n",
      "  [-0.86666667  0.          0.         ... -0.66157576 -0.65111111\n",
      "   -0.55111111]\n",
      "  [-0.824       0.          0.         ... -0.69163636 -0.67866667\n",
      "   -0.57466667]\n",
      "  [-0.74933333  0.          0.         ... -0.71781818 -0.70266667\n",
      "   -0.59533333]]\n",
      "\n",
      " ...\n",
      "\n",
      " [[-0.488       0.          0.         ... -0.44533333 -0.43555556\n",
      "   -0.47488889]\n",
      "  [-0.44533333  0.          0.         ... -0.4569697  -0.44888889\n",
      "   -0.46711111]\n",
      "  [-0.52        0.          0.         ... -0.46472727 -0.456\n",
      "   -0.45866667]\n",
      "  [-0.54666667  0.          0.         ... -0.47878788 -0.46933333\n",
      "   -0.45422222]\n",
      "  [-0.56266667  0.          0.         ... -0.48993939 -0.48444444\n",
      "   -0.45022222]]\n",
      "\n",
      " [[-0.44533333  0.          0.         ... -0.4569697  -0.44888889\n",
      "   -0.46711111]\n",
      "  [-0.52        0.          0.         ... -0.46472727 -0.456\n",
      "   -0.45866667]\n",
      "  [-0.54666667  0.          0.         ... -0.47878788 -0.46933333\n",
      "   -0.45422222]\n",
      "  [-0.56266667  0.          0.         ... -0.48993939 -0.48444444\n",
      "   -0.45022222]\n",
      "  [-0.54133333  0.          0.         ... -0.49624242 -0.496\n",
      "   -0.44777778]]\n",
      "\n",
      " [[-0.52        0.          0.         ... -0.46472727 -0.456\n",
      "   -0.45866667]\n",
      "  [-0.54666667  0.          0.         ... -0.47878788 -0.46933333\n",
      "   -0.45422222]\n",
      "  [-0.56266667  0.          0.         ... -0.48993939 -0.48444444\n",
      "   -0.45022222]\n",
      "  [-0.54133333  0.          0.         ... -0.49624242 -0.496\n",
      "   -0.44777778]\n",
      "  [-0.53066667  0.          0.         ... -0.49430303 -0.5\n",
      "   -0.44688889]]]\n"
     ]
    },
    {
     "output_type": "execute_result",
     "data": {
      "text/plain": [
       "<tensorflow.python.training.tracking.util.CheckpointLoadStatus at 0x7f039713ce50>"
      ]
     },
     "metadata": {},
     "execution_count": 7
    },
    {
     "output_type": "stream",
     "name": "stderr",
     "text": [
      "WARNING:absl:Found untraced functions such as leaky_re_lu_1_layer_call_fn, leaky_re_lu_1_layer_call_and_return_conditional_losses, leaky_re_lu_2_layer_call_fn, leaky_re_lu_2_layer_call_and_return_conditional_losses, lstm_cell_10_layer_call_fn while saving (showing 5 of 40). These functions will not be directly callable after loading.\n",
      "WARNING:absl:Found untraced functions such as leaky_re_lu_1_layer_call_fn, leaky_re_lu_1_layer_call_and_return_conditional_losses, leaky_re_lu_2_layer_call_fn, leaky_re_lu_2_layer_call_and_return_conditional_losses, lstm_cell_10_layer_call_fn while saving (showing 5 of 40). These functions will not be directly callable after loading.\n",
      "INFO:tensorflow:Assets written to: ../models/combined/model_5_1/assets\n",
      "INFO:tensorflow:Assets written to: ../models/combined/model_5_1/assets\n"
     ]
    }
   ],
   "source": [
    "from models.create_and_load_model import create_model\n",
    "# Read models and combine them with weights\n",
    "_data_to_model_path = os.path.join(PROJ_ROOT,\n",
    "                                    \"data\",\n",
    "                                    \"model_input\",\n",
    "                                    \"hanoi\")\n",
    "_hanoi_model_path = os.path.join(PROJ_ROOT,\n",
    "                            \"models\",\n",
    "                            \"hcm\")\n",
    "_converted_model_path = os.path.join(PROJ_ROOT,\n",
    "                                    \"models\",\n",
    "                                    \"combined\")\n",
    "\n",
    "def get_model_name(timesteps, target_hour):\n",
    "    return 'model_{}_{}.h5'.format(timesteps, target_hour)\n",
    "\n",
    "def get_saved_model_name(timesteps, target_hour):\n",
    "    # Saved model but for gcp\n",
    "    return 'model_{}_{}'.format(timesteps, target_hour)\n",
    "\n",
    "def get_model_weigts_name(timesteps, target_hour):\n",
    "    return 'weights_{}_{}.ckpt'.format(timesteps, target_hour)\n",
    "def root_mean_squared_error(y_true, y_pred):\n",
    "    return K.sqrt(K.mean(K.square(y_pred - y_true), axis=0))\n",
    "def mean_absolute_percentage_error(y_true, y_pred,\n",
    "                                   sample_weight=None,\n",
    "                                   multioutput='uniform_average'):\n",
    "    epsilon = np.finfo(np.float64).eps\n",
    "    mape = np.abs(y_pred - y_true) / np.maximum(np.abs(y_true), epsilon)\n",
    "    output_errors = np.average(mape,\n",
    "                               weights=sample_weight, axis=0)\n",
    "    if isinstance(multioutput, str):\n",
    "        if multioutput == 'raw_values':\n",
    "            return output_errors\n",
    "        elif multioutput == 'uniform_average':\n",
    "            # pass None as weights to np.average: uniform mean\n",
    "            multioutput = None\n",
    "\n",
    "    return np.average(output_errors, weights=multioutput)\n",
    "\n",
    "for hour in [1]:\n",
    "    rmse = []\n",
    "    r2 = []\n",
    "    mae = []\n",
    "    mape = []\n",
    "    for timesteps in [5]:\n",
    "        print(timesteps)\n",
    "        batch_size = 700\n",
    "        test, y_test = load_reshaped_array(timesteps, target_hour=hour, folder_path=_data_to_model_path, data_type=\"test\")\n",
    "        test_data_tf, test_steps_per_epochs = create_tensorflow_dataset(test, y_test, batch_size)\n",
    "        \n",
    "        colab_model = keras.models.load_model(\"{}/{}\".format(_hanoi_model_path,get_model_name(timesteps=timesteps, target_hour=hour)),\n",
    "                                custom_objects={'LeakyReLU': layers.LeakyReLU(alpha=0.01),\n",
    "                                               'root_mean_squared_error': root_mean_squared_error})\n",
    "        old_input_layer = colab_model.layers.pop(0)\n",
    "        timesteps, features = old_input_layer.output_shape[0][1:]\n",
    "        # Model with batch_size=1\n",
    "        converted_model = create_model(batch_size=1, timesteps=timesteps, features=features)\n",
    "        converted_model.load_weights('{}/{}'.format(_hanoi_model_path,\n",
    "                                         get_model_weigts_name(timesteps=timesteps, target_hour=hour))).expect_partial()\n",
    "        converted_model.save(\"{}/{}\".format(_converted_model_path, get_saved_model_name(timesteps=timesteps, target_hour=hour)))\n",
    "\n",
    "        # np.testing.assert_allclose(\n",
    "        #     model.predict(test_data_tf, steps=test_steps_per_epochs), reconstructed_model.predict(test_data_tf, steps=test_steps_per_epochs),\n",
    "\n",
    "        # )\n",
    "        # print(model.predict(test_data_tf, steps=test_steps_per_epochs))\n",
    "\n",
    "#         scaler_AQI = MinMaxScaler(feature_range=(-1,1))\n",
    "#         scaler_AQI.fit(thudohanoi_df['AQI_h'].values.reshape(-1, 1))\n",
    "#         y_test = scaler_AQI.inverse_transform(y_test.reshape(-1, 1))\n",
    "#         predict = scaler_AQI.inverse_transform(predict.reshape(-1, 1))\n",
    "#         print(\"=============================================\\n\")\n",
    "# #         print(\"Predict\")\n",
    "# #         predict_vs_truth = pd.DataFrame({'predict': predict[rand:rand+20],\n",
    "# #                                         'truth': y_test[rand:rand+20]})\n",
    "# #         print(predict_vs_truth)\n",
    "#         print(\"R2: {}\".format(r2_score(predict, y_test)))\n",
    "#         print(\"Root mean squared error: {}\".format(mean_squared_error(predict, y_test, squared=False)))\n",
    "#         print(\"Mean absolute percentage error: {}\".format(mean_absolute_percentage_error(predict, y_test)))\n",
    "#         print(\"Mean absolute error: {}\".format(mean_absolute_error(predict, y_test)))\n",
    "        \n",
    "#         rmse.append(mean_squared_error(predict, y_test, squared=False))\n",
    "#         r2.append(r2_score(predict, y_test))\n",
    "#         mape.append(mean_absolute_percentage_error(predict, y_test))\n",
    "#         mae.append(mean_absolute_error(predict, y_test))"
   ]
  },
  {
   "cell_type": "code",
   "execution_count": 12,
   "metadata": {},
   "outputs": [
    {
     "output_type": "execute_result",
     "data": {
      "text/plain": [
       "array([[-1.0194583],\n",
       "       [-1.0246565],\n",
       "       [-1.0255059],\n",
       "       ...,\n",
       "       [-1.0540177],\n",
       "       [-1.0577075],\n",
       "       [-1.0468792]], dtype=float32)"
      ]
     },
     "metadata": {},
     "execution_count": 12
    }
   ],
   "source": [
    "# Try predict with converted models\n",
    "converted_models.predict(test_data_tf, steps=test_steps_per_epochs)"
   ]
  },
  {
   "cell_type": "markdown",
   "metadata": {},
   "source": [
    "# Results\n",
    "Show graphs and stats here"
   ]
  },
  {
   "cell_type": "markdown",
   "metadata": {},
   "source": [
    "# Conclusions and Next Steps\n",
    "Summarize findings here"
   ]
  },
  {
   "cell_type": "code",
   "execution_count": null,
   "metadata": {},
   "outputs": [],
   "source": []
  }
 ],
 "metadata": {
  "kernelspec": {
   "name": "python3",
   "display_name": "Python 3.8.5 64-bit ('base': conda)"
  },
  "language_info": {
   "codemirror_mode": {
    "name": "ipython",
    "version": 3
   },
   "file_extension": ".py",
   "mimetype": "text/x-python",
   "name": "python",
   "nbconvert_exporter": "python",
   "pygments_lexer": "ipython3",
   "version": "3.8.5"
  },
  "toc": {
   "base_numbering": 1,
   "nav_menu": {},
   "number_sections": true,
   "sideBar": true,
   "skip_h1_title": false,
   "title_cell": "Table of Contents",
   "title_sidebar": "Contents",
   "toc_cell": false,
   "toc_position": {},
   "toc_section_display": true,
   "toc_window_display": false
  },
  "varInspector": {
   "cols": {
    "lenName": 16,
    "lenType": 16,
    "lenVar": 40
   },
   "kernels_config": {
    "python": {
     "delete_cmd_postfix": "",
     "delete_cmd_prefix": "del ",
     "library": "var_list.py",
     "varRefreshCmd": "print(var_dic_list())"
    },
    "r": {
     "delete_cmd_postfix": ") ",
     "delete_cmd_prefix": "rm(",
     "library": "var_list.r",
     "varRefreshCmd": "cat(var_dic_list()) "
    }
   },
   "types_to_exclude": [
    "module",
    "function",
    "builtin_function_or_method",
    "instance",
    "_Feature"
   ],
   "window_display": true
  },
  "interpreter": {
   "hash": "e357a302b185d63e0808b125d0fc1a509a050b36b5afa8b4104a5b4c4b2bfaa6"
  }
 },
 "nbformat": 4,
 "nbformat_minor": 4
}