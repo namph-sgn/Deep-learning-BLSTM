{
 "cells": [
  {
   "cell_type": "markdown",
   "metadata": {},
   "source": [
    "# Introduction\n",
    "This notebook is for collecting raw data and updating interim data with the previous"
   ]
  },
  {
   "cell_type": "markdown",
   "metadata": {},
   "source": [
    "### Get source folder and append to sys directory"
   ]
  },
  {
   "cell_type": "code",
   "execution_count": 3,
   "metadata": {},
   "outputs": [
    {
     "name": "stdout",
     "output_type": "stream",
     "text": [
      "/mnt/4ba37af6-51fd-47bc-8321-8c500c229114/study/School/KHOA LUAN TOT NGHIEP/runnable_program\n"
     ]
    }
   ],
   "source": [
    "from __future__ import print_function\n",
    "import os\n",
    "import sys\n",
    "PROJ_ROOT = os.path.join(os.pardir)\n",
    "print(os.path.abspath(PROJ_ROOT))\n",
    "src_dir = os.path.join(PROJ_ROOT, \"src\")\n",
    "sys.path.append(src_dir)\n",
    "# Data path example\n",
    "# pump_data_path = os.path.join(PROJ_ROOT,\n",
    "#                              \"data\",\n",
    "#                              \"raw\",\n",
    "#                              \"pumps_train_values.csv\")"
   ]
  },
  {
   "cell_type": "markdown",
   "metadata": {},
   "source": [
    "### Imports\n",
    "Import libraries and write settings here."
   ]
  },
  {
   "cell_type": "code",
   "execution_count": 2,
   "metadata": {},
   "outputs": [],
   "source": [
    "# Data manipulation\n",
    "import pandas as pd\n",
    "import numpy as np\n",
    "import tensorflow as tf\n",
    "import sklearn\n",
    "\n",
    "# Options for pandas\n",
    "pd.options.display.max_columns = 50\n",
    "pd.options.display.max_rows = 30\n",
    "# Display all cell outputs\n",
    "from IPython.core.interactiveshell import InteractiveShell\n",
    "InteractiveShell.ast_node_interactivity = 'all'\n",
    "from IPython import get_ipython\n",
    "ipython = get_ipython()\n",
    "# autoreload extension\n",
    "if 'autoreload' not in ipython.extension_manager.loaded:\n",
    "    %load_ext autoreload\n",
    "%autoreload 1\n",
    "# Use %aimport module to reload each module\n",
    "\n",
    "# Visualizations\n",
    "import matplotlib.pyplot as plt"
   ]
  },
  {
   "cell_type": "markdown",
   "metadata": {},
   "source": [
    "# Analysis/Modeling\n",
    "Do work here"
   ]
  },
  {
   "cell_type": "code",
   "execution_count": 4,
   "metadata": {},
   "outputs": [],
   "source": [
    "import requests\n",
    "import pandas as pd\n",
    "_site_URL = \"https://moitruongthudo.vn/api/site\"\n",
    "\n",
    "r = requests.get(url=_site_URL)\n",
    "site_data = r.json()\n",
    "site_data = pd.DataFrame(site_data)\n",
    "site_data_path = os.path.join(PROJ_ROOT,\n",
    "                              \"data\",\n",
    "                              \"raw\",\n",
    "                              \"site_data\",\n",
    "                              \"site_data.csv\")\n",
    "site_data[['id', 'name', 'address', 'latitude', 'longtitude',\n",
    "           'ref_id']].to_csv(site_data_path, index=False)"
   ]
  },
  {
   "cell_type": "markdown",
   "metadata": {},
   "source": [
    "### Get raw data from moitruongthudo.vn"
   ]
  },
  {
   "cell_type": "code",
   "execution_count": 6,
   "metadata": {},
   "outputs": [
    {
     "name": "stdout",
     "output_type": "stream",
     "text": [
      "done: 1 site\n",
      "done: 7 site\n",
      "done: 8 site\n",
      "done: 9 site\n",
      "done: 10 site\n",
      "done: 11 site\n",
      "done: 12 site\n",
      "done: 13 site\n",
      "done: 14 site\n",
      "done: 24 site\n",
      "done: 25 site\n",
      "done: 26 site\n",
      "done: 27 site\n",
      "done: 28 site\n",
      "done: 29 site\n",
      "done: 30 site\n",
      "done: 31 site\n",
      "done: 32 site\n",
      "done: 33 site\n",
      "done: 34 site\n",
      "done: 35 site\n",
      "done: 36 site\n",
      "done: 37 site\n",
      "done: 38 site\n",
      "done: 39 site\n",
      "done: 40 site\n",
      "done: 41 site\n",
      "done: 42 site\n",
      "done: 43 site\n",
      "done: 44 site\n",
      "done: 45 site\n",
      "done: 46 site\n",
      "done: 47 site\n",
      "total time in ms: 160050.95529556274ms\n"
     ]
    }
   ],
   "source": [
    "import datetime\n",
    "import csv\n",
    "import asyncio\n",
    "import requests\n",
    "import pandas as pd\n",
    "import time\n",
    "\n",
    "tic = time.time()\n",
    "_stat_URL = \"https://moitruongthudo.vn/public/dailystat/\"\n",
    "_site_id = pd.DataFrame(site_data['id'])\n",
    "\n",
    "async def get_indv_data(parameter, site_id):\n",
    "    r = requests.get(url = _stat_URL + parameter + '/', params = {'site_id': site_id})\n",
    "    data = r.json()\n",
    "    data = pd.DataFrame(data)\n",
    "    data['parameter'] = parameter\n",
    "    return data\n",
    "\n",
    "async def data_processing(all_data, site_id, latest_time):\n",
    "    all_data = pd.concat(all_data)\n",
    "    all_data['time'] = pd.to_datetime(all_data['time'], format=\"%Y-%m-%d %H:%M:%S\")\n",
    "    all_data = all_data[all_data['time'] > latest_time]\n",
    "    all_data['site_id'] = site_id\n",
    "    all_data = pd.pivot_table(all_data, values = 'value', index = ['site_id', 'time'], columns=['parameter'],\n",
    "              aggfunc='sum')\n",
    "#     print(all_data)\n",
    "    return all_data\n",
    "\n",
    "async def get_site_data(site_id, latest_time):\n",
    "    parameters = ['NO2','SO2','CO','PM2.5','PM10','O3']\n",
    "    site_data = pd.DataFrame()\n",
    "    all_data = await asyncio.gather(*(get_indv_data(p, site_id) for p in parameters))\n",
    "    site_data = await data_processing(all_data, site_id, latest_time)\n",
    "    return site_data\n",
    "\n",
    "async def update_raw_files(site_id):\n",
    "    csv_path_name = os.path.join(PROJ_ROOT,\n",
    "                                \"data\",\n",
    "                                \"raw\",\n",
    "                                \"{}.csv\".format(site_id))\n",
    "    try:\n",
    "        exist_data = pd.read_csv(csv_path_name)\n",
    "    except FileNotFoundError: \n",
    "        print(\"No data for site {}\".format(site_id))\n",
    "        exist_data = []\n",
    "    if len(exist_data) != 0:\n",
    "        # Convert column to date\n",
    "        exist_data['time'] = pd.to_datetime(exist_data['time'], format=\"%Y-%m-%d %H:%M:%S\")\n",
    "        # Find the latest datetime\n",
    "        latest_time = exist_data['time'].max()\n",
    "        # Get data for site\n",
    "        site_data = await get_site_data(site_id, latest_time)\n",
    "        # Write data to file\n",
    "        site_data.to_csv(csv_path_name, header=False, mode='a')\n",
    "        print('done: {} site'.format(site_id))\n",
    "    return None\n",
    "\n",
    "tasks = list(_site_id.apply(lambda site_id: update_raw_files(site_id.values[0]), axis=1))\n",
    "all_done = await asyncio.gather(*tasks)\n",
    "toc = time.time()\n",
    "print('total time in ms: {}ms'.format(1000 * (toc - tic)))"
   ]
  },
  {
   "cell_type": "markdown",
   "metadata": {},
   "source": [
    "### Update interim data with newly collected data"
   ]
  },
  {
   "cell_type": "code",
   "execution_count": 8,
   "metadata": {},
   "outputs": [
    {
     "name": "stdout",
     "output_type": "stream",
     "text": [
      "Done calculating NowCast for site 1\n",
      "done: 1 site\n",
      "Done calculating NowCast for site 7\n",
      "done: 7 site\n",
      "Done calculating NowCast for site 8\n",
      "done: 8 site\n",
      "Done calculating NowCast for site 9\n",
      "done: 9 site\n",
      "Done calculating NowCast for site 10\n",
      "done: 10 site\n",
      "Done calculating NowCast for site 11\n",
      "done: 11 site\n",
      "Done calculating NowCast for site 12\n",
      "done: 12 site\n",
      "Done calculating NowCast for site 13\n",
      "done: 13 site\n"
     ]
    },
    {
     "name": "stderr",
     "output_type": "stream",
     "text": [
      "/mnt/4ba37af6-51fd-47bc-8321-8c500c229114/study/School/KHOA LUAN TOT NGHIEP/runnable_program/notebooks/utilities.py:84: RuntimeWarning: invalid value encountered in double_scalars\n",
      "  w = min_value / max_value\n"
     ]
    },
    {
     "name": "stdout",
     "output_type": "stream",
     "text": [
      "Done calculating NowCast for site 14\n",
      "done: 14 site\n",
      "Done calculating NowCast for site 24\n",
      "done: 24 site\n",
      "Done calculating NowCast for site 25\n",
      "done: 25 site\n",
      "Done calculating NowCast for site 26\n",
      "done: 26 site\n",
      "Done calculating NowCast for site 27\n",
      "done: 27 site\n",
      "Done calculating NowCast for site 28\n",
      "done: 28 site\n",
      "Done calculating NowCast for site 29\n",
      "done: 29 site\n",
      "Done calculating NowCast for site 30\n",
      "done: 30 site\n",
      "Done calculating NowCast for site 31\n",
      "done: 31 site\n",
      "Done calculating NowCast for site 32\n",
      "done: 32 site\n",
      "Done calculating NowCast for site 33\n",
      "done: 33 site\n",
      "Done calculating NowCast for site 34\n",
      "done: 34 site\n",
      "Done calculating NowCast for site 35\n",
      "done: 35 site\n",
      "Done calculating NowCast for site 36\n",
      "done: 36 site\n",
      "Done calculating NowCast for site 37\n",
      "done: 37 site\n",
      "Done calculating NowCast for site 38\n",
      "done: 38 site\n",
      "Done calculating NowCast for site 39\n",
      "done: 39 site\n",
      "Done calculating NowCast for site 40\n",
      "done: 40 site\n",
      "Done calculating NowCast for site 41\n",
      "done: 41 site\n",
      "Done calculating NowCast for site 42\n",
      "done: 42 site\n",
      "Done calculating NowCast for site 43\n",
      "done: 43 site\n",
      "Done calculating NowCast for site 44\n",
      "done: 44 site\n",
      "Done calculating NowCast for site 45\n",
      "done: 45 site\n",
      "Done calculating NowCast for site 46\n",
      "done: 46 site\n",
      "Done calculating NowCast for site 47\n",
      "done: 47 site\n"
     ]
    }
   ],
   "source": [
    "# Job: take last time from interim_data\n",
    "import utilities\n",
    "from importlib import reload\n",
    "import utilities\n",
    "import pandas as pd\n",
    "import numpy as np\n",
    "import glob\n",
    "import xarray as xr\n",
    "\n",
    "utilities = reload(utilities)\n",
    "\n",
    "idx = pd.IndexSlice\n",
    "\n",
    "\n",
    "def update_interim_files(site_id):\n",
    "    _raw_path_name = os.path.join(PROJ_ROOT,\n",
    "                                 \"data\",\n",
    "                                 \"raw\",\n",
    "                                 \"{}.csv\".format(site_id))\n",
    "    _interim_path_name = os.path.join(PROJ_ROOT,\n",
    "                                     \"data\",\n",
    "                                     \"interim\",\n",
    "                                     \"{}.csv\".format(site_id))\n",
    "    try:\n",
    "        raw_data = pd.read_csv(\n",
    "            _raw_path_name, parse_dates=True, index_col=['site_id', 'time'])\n",
    "        interim_data = pd.read_csv(\n",
    "            _interim_path_name, parse_dates=True, index_col=['site_id', 'time'])\n",
    "    except FileNotFoundError:\n",
    "        print(\"No data for site {}\".format(site_id))\n",
    "        raw_data = []\n",
    "        interim_data = []\n",
    "    if len(raw_data) != 0:\n",
    "        # Find the latest datetime\n",
    "        raw_latest_time = raw_data.index.get_level_values(1).max()\n",
    "        interim_latest_time = interim_data.index.get_level_values(1).max()\n",
    "        # Trim raw_data time/ features\n",
    "        raw_data = raw_data[raw_data.index.get_level_values(\n",
    "            1) >= (interim_latest_time - pd.Timedelta(hours=12))]\n",
    "        raw_data = raw_data[['CO', 'NO2', 'PM25']]\n",
    "        # Calculate AQI\n",
    "        AQI = utilities.calculate_AQI_h(raw_data)\n",
    "        # Trim AQI to interim latest time\n",
    "        AQI = AQI[AQI.index.get_level_values(1) > interim_latest_time]\n",
    "        # Write data to file\n",
    "        AQI.to_csv(_interim_path_name, header=False, mode='a')\n",
    "        print('done: {} site'.format(site_id))\n",
    "    return None\n",
    "\n",
    "\n",
    "tasks = list(_site_id.apply(\n",
    "    lambda site_id: update_interim_files(site_id.values[0]), axis=1))"
   ]
  }
 ],
 "metadata": {
  "kernelspec": {
   "display_name": "Python 3",
   "language": "python",
   "name": "python3"
  },
  "language_info": {
   "codemirror_mode": {
    "name": "ipython",
    "version": 3
   },
   "file_extension": ".py",
   "mimetype": "text/x-python",
   "name": "python",
   "nbconvert_exporter": "python",
   "pygments_lexer": "ipython3",
   "version": "3.8.5"
  },
  "toc": {
   "base_numbering": 1,
   "nav_menu": {},
   "number_sections": true,
   "sideBar": true,
   "skip_h1_title": false,
   "title_cell": "Table of Contents",
   "title_sidebar": "Contents",
   "toc_cell": false,
   "toc_position": {},
   "toc_section_display": true,
   "toc_window_display": false
  },
  "varInspector": {
   "cols": {
    "lenName": 16,
    "lenType": 16,
    "lenVar": 40
   },
   "kernels_config": {
    "python": {
     "delete_cmd_postfix": "",
     "delete_cmd_prefix": "del ",
     "library": "var_list.py",
     "varRefreshCmd": "print(var_dic_list())"
    },
    "r": {
     "delete_cmd_postfix": ") ",
     "delete_cmd_prefix": "rm(",
     "library": "var_list.r",
     "varRefreshCmd": "cat(var_dic_list()) "
    }
   },
   "types_to_exclude": [
    "module",
    "function",
    "builtin_function_or_method",
    "instance",
    "_Feature"
   ],
   "window_display": true
  }
 },
 "nbformat": 4,
 "nbformat_minor": 4
}
