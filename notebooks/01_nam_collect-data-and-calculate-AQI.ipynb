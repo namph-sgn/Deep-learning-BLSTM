{
 "cells": [
  {
   "cell_type": "markdown",
   "metadata": {},
   "source": [
    "# Introduction\n",
    "This notebook is for collecting raw data and updating interim data with the previous"
   ]
  },
  {
   "cell_type": "markdown",
   "metadata": {},
   "source": [
    "### Get source folder and append to sys directory"
   ]
  },
  {
   "cell_type": "code",
   "execution_count": 1,
   "metadata": {},
   "outputs": [
    {
     "name": "stdout",
     "output_type": "stream",
     "text": [
      "/mnt/4ba37af6-51fd-47bc-8321-8c500c229114/study/School/KHOA LUAN TOT NGHIEP/runnable_program\n"
     ]
    }
   ],
   "source": [
    "from __future__ import print_function\n",
    "import os\n",
    "import sys\n",
    "PROJ_ROOT = os.path.join(os.pardir)\n",
    "print(os.path.abspath(PROJ_ROOT))\n",
    "src_dir = os.path.join(PROJ_ROOT, \"src\")\n",
    "sys.path.append(src_dir)\n",
    "# Data path example\n",
    "# pump_data_path = os.path.join(PROJ_ROOT,\n",
    "#                              \"data\",\n",
    "#                              \"raw\",\n",
    "#                              \"pumps_train_values.csv\")"
   ]
  },
  {
   "cell_type": "markdown",
   "metadata": {},
   "source": [
    "### Imports\n",
    "Import libraries and write settings here."
   ]
  },
  {
   "cell_type": "code",
   "execution_count": 2,
   "metadata": {},
   "outputs": [],
   "source": [
    "# Data manipulation\n",
    "import pandas as pd\n",
    "import numpy as np\n",
    "import sklearn\n",
    "import asyncio\n",
    "import requests\n",
    "\n",
    "# Options for pandas\n",
    "pd.options.display.max_columns = 50\n",
    "pd.options.display.max_rows = 30\n",
    "# Display all cell outputs\n",
    "from IPython.core.interactiveshell import InteractiveShell\n",
    "InteractiveShell.ast_node_interactivity = 'all'\n",
    "from IPython import get_ipython\n",
    "ipython = get_ipython()\n",
    "# autoreload extension\n",
    "if 'autoreload' not in ipython.extension_manager.loaded:\n",
    "    %load_ext autoreload\n",
    "%autoreload 1\n",
    "# Use %aimport module to reload each module\n",
    "\n",
    "# Visualizations\n",
    "import matplotlib.pyplot as plt"
   ]
  },
  {
   "cell_type": "markdown",
   "metadata": {},
   "source": [
    "# Analysis/Modeling\n",
    "Do work here"
   ]
  },
  {
   "cell_type": "code",
   "execution_count": 3,
   "metadata": {},
   "outputs": [],
   "source": [
    "import requests\n",
    "_site_URL = \"https://moitruongthudo.vn/api/site\"\n",
    "\n",
    "r = requests.get(url=_site_URL)\n",
    "site_data = r.json()\n",
    "site_data = pd.DataFrame(site_data)\n",
    "site_data_path = os.path.join(PROJ_ROOT,\n",
    "                              \"data\",\n",
    "                              \"raw\",\n",
    "                              \"site_data\",\n",
    "                              \"site_data.csv\")\n",
    "site_data[['id', 'name', 'address', 'latitude', 'longtitude',\n",
    "           'ref_id']].to_csv(site_data_path, index=False)"
   ]
  },
  {
   "cell_type": "code",
   "execution_count": 4,
   "metadata": {},
   "outputs": [
    {
     "data": {
      "text/html": [
       "<div>\n",
       "<style scoped>\n",
       "    .dataframe tbody tr th:only-of-type {\n",
       "        vertical-align: middle;\n",
       "    }\n",
       "\n",
       "    .dataframe tbody tr th {\n",
       "        vertical-align: top;\n",
       "    }\n",
       "\n",
       "    .dataframe thead th {\n",
       "        text-align: right;\n",
       "    }\n",
       "</style>\n",
       "<table border=\"1\" class=\"dataframe\">\n",
       "  <thead>\n",
       "    <tr style=\"text-align: right;\">\n",
       "      <th></th>\n",
       "      <th>id</th>\n",
       "      <th>name</th>\n",
       "      <th>desc</th>\n",
       "      <th>address</th>\n",
       "      <th>latitude</th>\n",
       "      <th>longtitude</th>\n",
       "      <th>timezone</th>\n",
       "      <th>created_at</th>\n",
       "      <th>updated_at</th>\n",
       "      <th>status</th>\n",
       "      <th>ref_id</th>\n",
       "      <th>ratio</th>\n",
       "      <th>code</th>\n",
       "      <th>map_top</th>\n",
       "      <th>map_left</th>\n",
       "      <th>file_name</th>\n",
       "      <th>folder</th>\n",
       "      <th>aqi</th>\n",
       "      <th>aqiText</th>\n",
       "      <th>temp</th>\n",
       "      <th>humid</th>\n",
       "      <th>aqi_time</th>\n",
       "      <th>info</th>\n",
       "      <th>color</th>\n",
       "    </tr>\n",
       "  </thead>\n",
       "  <tbody>\n",
       "    <tr>\n",
       "      <th>0</th>\n",
       "      <td>1</td>\n",
       "      <td>Hoàn Kiếm</td>\n",
       "      <td>4</td>\n",
       "      <td>CA quận Hoàn Kiếm</td>\n",
       "      <td>21.0263</td>\n",
       "      <td>105.8515</td>\n",
       "      <td>7</td>\n",
       "      <td>2016-11-23 08:32:35</td>\n",
       "      <td>2021-08-01 19:00:59</td>\n",
       "      <td>1</td>\n",
       "      <td>15</td>\n",
       "      <td>0.0</td>\n",
       "      <td>HN_CCMT_KHIHHK</td>\n",
       "      <td>133</td>\n",
       "      <td>298</td>\n",
       "      <td>HN_CCMT_KHIHHK</td>\n",
       "      <td>HoanKiem</td>\n",
       "      <td>57</td>\n",
       "      <td>Trung bình</td>\n",
       "      <td>21.1</td>\n",
       "      <td>92.4</td>\n",
       "      <td>19-10-2021</td>\n",
       "      <td>&lt;div style='padding:2px;'&gt;\\n    &lt;div style='ma...</td>\n",
       "      <td>#ffff00</td>\n",
       "    </tr>\n",
       "    <tr>\n",
       "      <th>1</th>\n",
       "      <td>7</td>\n",
       "      <td>Thành Công</td>\n",
       "      <td>5</td>\n",
       "      <td>Công viên hồ Thành Công, Ba Đình</td>\n",
       "      <td>21.0197</td>\n",
       "      <td>105.8147</td>\n",
       "      <td>7</td>\n",
       "      <td>2016-11-25 22:33:42</td>\n",
       "      <td>2021-08-01 19:01:00</td>\n",
       "      <td>1</td>\n",
       "      <td>15</td>\n",
       "      <td>0.0</td>\n",
       "      <td>HN_CCMT_KHIHTC</td>\n",
       "      <td>147</td>\n",
       "      <td>220</td>\n",
       "      <td>HN_CCMT_KHIHTC</td>\n",
       "      <td>ThanhCong</td>\n",
       "      <td>86</td>\n",
       "      <td>Trung bình</td>\n",
       "      <td>21.6</td>\n",
       "      <td>86.8</td>\n",
       "      <td>19-10-2021</td>\n",
       "      <td>&lt;div style='padding:2px;'&gt;\\n    &lt;div style='ma...</td>\n",
       "      <td>#ffff00</td>\n",
       "    </tr>\n",
       "    <tr>\n",
       "      <th>2</th>\n",
       "      <td>8</td>\n",
       "      <td>Tân Mai</td>\n",
       "      <td>6</td>\n",
       "      <td>UBND phường Hoàng Văn Thụ, Hoàng Mai</td>\n",
       "      <td>20.9883</td>\n",
       "      <td>105.8549</td>\n",
       "      <td>7</td>\n",
       "      <td>2016-11-25 22:34:29</td>\n",
       "      <td>2021-08-01 19:01:01</td>\n",
       "      <td>1</td>\n",
       "      <td>15</td>\n",
       "      <td>0.0</td>\n",
       "      <td>HN_CCMT_KHIPTM</td>\n",
       "      <td>235</td>\n",
       "      <td>314</td>\n",
       "      <td>HN_CCMT_KHIPTM</td>\n",
       "      <td>TanMai</td>\n",
       "      <td>47</td>\n",
       "      <td>Tốt</td>\n",
       "      <td>22.5</td>\n",
       "      <td>81.9</td>\n",
       "      <td>19-10-2021</td>\n",
       "      <td>&lt;div style='padding:2px;'&gt;\\n    &lt;div style='ma...</td>\n",
       "      <td>#00e400</td>\n",
       "    </tr>\n",
       "    <tr>\n",
       "      <th>3</th>\n",
       "      <td>9</td>\n",
       "      <td>Kim Liên</td>\n",
       "      <td>7</td>\n",
       "      <td>Mầm non Kim Liên, Đống Đa</td>\n",
       "      <td>21.0074</td>\n",
       "      <td>105.8358</td>\n",
       "      <td>7</td>\n",
       "      <td>2016-12-04 02:15:28</td>\n",
       "      <td>2021-08-01 19:01:04</td>\n",
       "      <td>1</td>\n",
       "      <td>15</td>\n",
       "      <td>0.0</td>\n",
       "      <td>HN_CCMT_KHIPKL</td>\n",
       "      <td>178</td>\n",
       "      <td>266</td>\n",
       "      <td>HN_CCMT_KHIPKL</td>\n",
       "      <td>KimLien</td>\n",
       "      <td>51</td>\n",
       "      <td>Trung bình</td>\n",
       "      <td>22.9</td>\n",
       "      <td>76.9</td>\n",
       "      <td>19-10-2021</td>\n",
       "      <td>&lt;div style='padding:2px;'&gt;\\n    &lt;div style='ma...</td>\n",
       "      <td>#ffff00</td>\n",
       "    </tr>\n",
       "    <tr>\n",
       "      <th>4</th>\n",
       "      <td>10</td>\n",
       "      <td>Phạm Văn Đồng</td>\n",
       "      <td>8</td>\n",
       "      <td>36A Phạm Văn Đồng, Bắc Từ Liêm</td>\n",
       "      <td>21.0500</td>\n",
       "      <td>105.7820</td>\n",
       "      <td>7</td>\n",
       "      <td>2016-12-04 02:30:50</td>\n",
       "      <td>2021-08-01 19:01:04</td>\n",
       "      <td>1</td>\n",
       "      <td>15</td>\n",
       "      <td>0.0</td>\n",
       "      <td>HN_CCMT_KHIPVD</td>\n",
       "      <td>98</td>\n",
       "      <td>150</td>\n",
       "      <td>HN_CCMT_KHIPVD</td>\n",
       "      <td>PhamVanDong</td>\n",
       "      <td>88</td>\n",
       "      <td>Trung bình</td>\n",
       "      <td>21.7</td>\n",
       "      <td>87.0</td>\n",
       "      <td>19-10-2021</td>\n",
       "      <td>&lt;div style='padding:2px;'&gt;\\n    &lt;div style='ma...</td>\n",
       "      <td>#ffff00</td>\n",
       "    </tr>\n",
       "    <tr>\n",
       "      <th>...</th>\n",
       "      <td>...</td>\n",
       "      <td>...</td>\n",
       "      <td>...</td>\n",
       "      <td>...</td>\n",
       "      <td>...</td>\n",
       "      <td>...</td>\n",
       "      <td>...</td>\n",
       "      <td>...</td>\n",
       "      <td>...</td>\n",
       "      <td>...</td>\n",
       "      <td>...</td>\n",
       "      <td>...</td>\n",
       "      <td>...</td>\n",
       "      <td>...</td>\n",
       "      <td>...</td>\n",
       "      <td>...</td>\n",
       "      <td>...</td>\n",
       "      <td>...</td>\n",
       "      <td>...</td>\n",
       "      <td>...</td>\n",
       "      <td>...</td>\n",
       "      <td>...</td>\n",
       "      <td>...</td>\n",
       "      <td>...</td>\n",
       "    </tr>\n",
       "    <tr>\n",
       "      <th>30</th>\n",
       "      <td>43</td>\n",
       "      <td>Liên Quan</td>\n",
       "      <td>31</td>\n",
       "      <td>UBND thị trấn Liên Quan, Thạch Thất</td>\n",
       "      <td>21.0560</td>\n",
       "      <td>105.5780</td>\n",
       "      <td>7</td>\n",
       "      <td>2020-03-03 10:02:07</td>\n",
       "      <td>2021-07-22 15:36:42</td>\n",
       "      <td>1</td>\n",
       "      <td>14</td>\n",
       "      <td>1.3</td>\n",
       "      <td>HN_CCMT_KHITLQ</td>\n",
       "      <td>100</td>\n",
       "      <td>100</td>\n",
       "      <td>HN_CCMT_KHITLQ</td>\n",
       "      <td>LienQuan</td>\n",
       "      <td>N/A</td>\n",
       "      <td></td>\n",
       "      <td>--</td>\n",
       "      <td>--</td>\n",
       "      <td>20-09-2021</td>\n",
       "      <td>&lt;div style='padding:2px;'&gt;\\n    &lt;div style='ma...</td>\n",
       "      <td>#e5e5e5</td>\n",
       "    </tr>\n",
       "    <tr>\n",
       "      <th>31</th>\n",
       "      <td>44</td>\n",
       "      <td>Chúc Sơn</td>\n",
       "      <td>32</td>\n",
       "      <td>UBND thị trấn Chúc Sơn, Chương Mỹ</td>\n",
       "      <td>20.9200</td>\n",
       "      <td>105.7123</td>\n",
       "      <td>7</td>\n",
       "      <td>2020-03-03 10:03:07</td>\n",
       "      <td>2021-07-22 15:36:25</td>\n",
       "      <td>1</td>\n",
       "      <td>14</td>\n",
       "      <td>1.3</td>\n",
       "      <td>HN_CCMT_KHITCS</td>\n",
       "      <td>100</td>\n",
       "      <td>100</td>\n",
       "      <td>HN_CCMT_KHITCS</td>\n",
       "      <td>ChucSon</td>\n",
       "      <td>N/A</td>\n",
       "      <td></td>\n",
       "      <td>--</td>\n",
       "      <td>--</td>\n",
       "      <td>20-08-2021</td>\n",
       "      <td>&lt;div style='padding:2px;'&gt;\\n    &lt;div style='ma...</td>\n",
       "      <td>#e5e5e5</td>\n",
       "    </tr>\n",
       "    <tr>\n",
       "      <th>32</th>\n",
       "      <td>45</td>\n",
       "      <td>Xuân Mai</td>\n",
       "      <td>33</td>\n",
       "      <td>UBND thị trấn Xuân Mai, Chương Mỹ</td>\n",
       "      <td>20.8994</td>\n",
       "      <td>105.5773</td>\n",
       "      <td>7</td>\n",
       "      <td>2020-03-03 10:03:44</td>\n",
       "      <td>2021-07-22 15:36:08</td>\n",
       "      <td>1</td>\n",
       "      <td>14</td>\n",
       "      <td>1.3</td>\n",
       "      <td>HN_CCMT_KHITXM</td>\n",
       "      <td>100</td>\n",
       "      <td>100</td>\n",
       "      <td>HN_CCMT_KHITXM</td>\n",
       "      <td>XuanMai</td>\n",
       "      <td>N/A</td>\n",
       "      <td></td>\n",
       "      <td>--</td>\n",
       "      <td>--</td>\n",
       "      <td>20-09-2021</td>\n",
       "      <td>&lt;div style='padding:2px;'&gt;\\n    &lt;div style='ma...</td>\n",
       "      <td>#e5e5e5</td>\n",
       "    </tr>\n",
       "    <tr>\n",
       "      <th>33</th>\n",
       "      <td>46</td>\n",
       "      <td>Thanh Xuân - Sóc Sơn</td>\n",
       "      <td>34</td>\n",
       "      <td>UBND xã Thanh Xuân, Sóc Sơn</td>\n",
       "      <td>21.2287</td>\n",
       "      <td>105.7583</td>\n",
       "      <td>7</td>\n",
       "      <td>2020-03-03 10:04:25</td>\n",
       "      <td>2021-07-22 15:35:50</td>\n",
       "      <td>1</td>\n",
       "      <td>14</td>\n",
       "      <td>1.3</td>\n",
       "      <td>HN_CCMT_KHIXTX</td>\n",
       "      <td>100</td>\n",
       "      <td>100</td>\n",
       "      <td>HN_CCMT_KHIXTX</td>\n",
       "      <td>ThanhXuanSocSon</td>\n",
       "      <td>N/A</td>\n",
       "      <td></td>\n",
       "      <td>--</td>\n",
       "      <td>--</td>\n",
       "      <td>20-09-2021</td>\n",
       "      <td>&lt;div style='padding:2px;'&gt;\\n    &lt;div style='ma...</td>\n",
       "      <td>#e5e5e5</td>\n",
       "    </tr>\n",
       "    <tr>\n",
       "      <th>34</th>\n",
       "      <td>47</td>\n",
       "      <td>Sóc Sơn</td>\n",
       "      <td>35</td>\n",
       "      <td>UBND thị trấn Sóc Sơn</td>\n",
       "      <td>21.2575</td>\n",
       "      <td>105.8514</td>\n",
       "      <td>7</td>\n",
       "      <td>2020-03-03 10:05:08</td>\n",
       "      <td>2021-07-22 15:35:33</td>\n",
       "      <td>1</td>\n",
       "      <td>14</td>\n",
       "      <td>1.3</td>\n",
       "      <td>HN_CCMT_KHITSS</td>\n",
       "      <td>100</td>\n",
       "      <td>100</td>\n",
       "      <td>HN_CCMT_KHITSS</td>\n",
       "      <td>SocSon</td>\n",
       "      <td>N/A</td>\n",
       "      <td></td>\n",
       "      <td>--</td>\n",
       "      <td>--</td>\n",
       "      <td>21-07-2021</td>\n",
       "      <td>&lt;div style='padding:2px;'&gt;\\n    &lt;div style='ma...</td>\n",
       "      <td>#e5e5e5</td>\n",
       "    </tr>\n",
       "  </tbody>\n",
       "</table>\n",
       "<p>35 rows × 24 columns</p>\n",
       "</div>"
      ],
      "text/plain": [
       "    id                  name  desc                               address  \\\n",
       "0    1             Hoàn Kiếm     4                     CA quận Hoàn Kiếm   \n",
       "1    7            Thành Công     5      Công viên hồ Thành Công, Ba Đình   \n",
       "2    8               Tân Mai     6  UBND phường Hoàng Văn Thụ, Hoàng Mai   \n",
       "3    9              Kim Liên     7             Mầm non Kim Liên, Đống Đa   \n",
       "4   10         Phạm Văn Đồng     8        36A Phạm Văn Đồng, Bắc Từ Liêm   \n",
       "..  ..                   ...   ...                                   ...   \n",
       "30  43             Liên Quan    31   UBND thị trấn Liên Quan, Thạch Thất   \n",
       "31  44              Chúc Sơn    32     UBND thị trấn Chúc Sơn, Chương Mỹ   \n",
       "32  45              Xuân Mai    33     UBND thị trấn Xuân Mai, Chương Mỹ   \n",
       "33  46  Thanh Xuân - Sóc Sơn    34           UBND xã Thanh Xuân, Sóc Sơn   \n",
       "34  47               Sóc Sơn    35                 UBND thị trấn Sóc Sơn   \n",
       "\n",
       "    latitude  longtitude  timezone           created_at           updated_at  \\\n",
       "0    21.0263    105.8515         7  2016-11-23 08:32:35  2021-08-01 19:00:59   \n",
       "1    21.0197    105.8147         7  2016-11-25 22:33:42  2021-08-01 19:01:00   \n",
       "2    20.9883    105.8549         7  2016-11-25 22:34:29  2021-08-01 19:01:01   \n",
       "3    21.0074    105.8358         7  2016-12-04 02:15:28  2021-08-01 19:01:04   \n",
       "4    21.0500    105.7820         7  2016-12-04 02:30:50  2021-08-01 19:01:04   \n",
       "..       ...         ...       ...                  ...                  ...   \n",
       "30   21.0560    105.5780         7  2020-03-03 10:02:07  2021-07-22 15:36:42   \n",
       "31   20.9200    105.7123         7  2020-03-03 10:03:07  2021-07-22 15:36:25   \n",
       "32   20.8994    105.5773         7  2020-03-03 10:03:44  2021-07-22 15:36:08   \n",
       "33   21.2287    105.7583         7  2020-03-03 10:04:25  2021-07-22 15:35:50   \n",
       "34   21.2575    105.8514         7  2020-03-03 10:05:08  2021-07-22 15:35:33   \n",
       "\n",
       "    status  ref_id  ratio            code  map_top  map_left       file_name  \\\n",
       "0        1      15    0.0  HN_CCMT_KHIHHK      133       298  HN_CCMT_KHIHHK   \n",
       "1        1      15    0.0  HN_CCMT_KHIHTC      147       220  HN_CCMT_KHIHTC   \n",
       "2        1      15    0.0  HN_CCMT_KHIPTM      235       314  HN_CCMT_KHIPTM   \n",
       "3        1      15    0.0  HN_CCMT_KHIPKL      178       266  HN_CCMT_KHIPKL   \n",
       "4        1      15    0.0  HN_CCMT_KHIPVD       98       150  HN_CCMT_KHIPVD   \n",
       "..     ...     ...    ...             ...      ...       ...             ...   \n",
       "30       1      14    1.3  HN_CCMT_KHITLQ      100       100  HN_CCMT_KHITLQ   \n",
       "31       1      14    1.3  HN_CCMT_KHITCS      100       100  HN_CCMT_KHITCS   \n",
       "32       1      14    1.3  HN_CCMT_KHITXM      100       100  HN_CCMT_KHITXM   \n",
       "33       1      14    1.3  HN_CCMT_KHIXTX      100       100  HN_CCMT_KHIXTX   \n",
       "34       1      14    1.3  HN_CCMT_KHITSS      100       100  HN_CCMT_KHITSS   \n",
       "\n",
       "             folder  aqi     aqiText  temp humid    aqi_time  \\\n",
       "0          HoanKiem   57  Trung bình  21.1  92.4  19-10-2021   \n",
       "1         ThanhCong   86  Trung bình  21.6  86.8  19-10-2021   \n",
       "2            TanMai   47         Tốt  22.5  81.9  19-10-2021   \n",
       "3           KimLien   51  Trung bình  22.9  76.9  19-10-2021   \n",
       "4       PhamVanDong   88  Trung bình  21.7  87.0  19-10-2021   \n",
       "..              ...  ...         ...   ...   ...         ...   \n",
       "30         LienQuan  N/A                --    --  20-09-2021   \n",
       "31          ChucSon  N/A                --    --  20-08-2021   \n",
       "32          XuanMai  N/A                --    --  20-09-2021   \n",
       "33  ThanhXuanSocSon  N/A                --    --  20-09-2021   \n",
       "34           SocSon  N/A                --    --  21-07-2021   \n",
       "\n",
       "                                                 info    color  \n",
       "0   <div style='padding:2px;'>\\n    <div style='ma...  #ffff00  \n",
       "1   <div style='padding:2px;'>\\n    <div style='ma...  #ffff00  \n",
       "2   <div style='padding:2px;'>\\n    <div style='ma...  #00e400  \n",
       "3   <div style='padding:2px;'>\\n    <div style='ma...  #ffff00  \n",
       "4   <div style='padding:2px;'>\\n    <div style='ma...  #ffff00  \n",
       "..                                                ...      ...  \n",
       "30  <div style='padding:2px;'>\\n    <div style='ma...  #e5e5e5  \n",
       "31  <div style='padding:2px;'>\\n    <div style='ma...  #e5e5e5  \n",
       "32  <div style='padding:2px;'>\\n    <div style='ma...  #e5e5e5  \n",
       "33  <div style='padding:2px;'>\\n    <div style='ma...  #e5e5e5  \n",
       "34  <div style='padding:2px;'>\\n    <div style='ma...  #e5e5e5  \n",
       "\n",
       "[35 rows x 24 columns]"
      ]
     },
     "execution_count": 4,
     "metadata": {},
     "output_type": "execute_result"
    }
   ],
   "source": [
    "site_data"
   ]
  },
  {
   "cell_type": "code",
   "execution_count": 5,
   "metadata": {},
   "outputs": [
    {
     "data": {
      "text/html": [
       "<div>\n",
       "<style scoped>\n",
       "    .dataframe tbody tr th:only-of-type {\n",
       "        vertical-align: middle;\n",
       "    }\n",
       "\n",
       "    .dataframe tbody tr th {\n",
       "        vertical-align: top;\n",
       "    }\n",
       "\n",
       "    .dataframe thead th {\n",
       "        text-align: right;\n",
       "    }\n",
       "</style>\n",
       "<table border=\"1\" class=\"dataframe\">\n",
       "  <thead>\n",
       "    <tr style=\"text-align: right;\">\n",
       "      <th></th>\n",
       "      <th>PM2.5</th>\n",
       "      <th>PM10</th>\n",
       "      <th>NO2</th>\n",
       "      <th>CO</th>\n",
       "      <th>SO2</th>\n",
       "      <th>O3</th>\n",
       "    </tr>\n",
       "  </thead>\n",
       "  <tbody>\n",
       "    <tr>\n",
       "      <th>0</th>\n",
       "      <td>{'time': '2021-09-19 00:00', 'value': None}</td>\n",
       "      <td>{'time': '2021-09-19 00:00', 'value': None}</td>\n",
       "      <td>{'time': '2021-09-19 00:00', 'value': None}</td>\n",
       "      <td>{'time': '2021-09-19 00:00', 'value': '714.30'}</td>\n",
       "      <td>{'time': '2021-09-19 00:00', 'value': None}</td>\n",
       "      <td>{'time': '2021-09-19 00:00', 'value': '1.00'}</td>\n",
       "    </tr>\n",
       "    <tr>\n",
       "      <th>1</th>\n",
       "      <td>{'time': '2021-09-19 01:00', 'value': None}</td>\n",
       "      <td>{'time': '2021-09-19 01:00', 'value': None}</td>\n",
       "      <td>{'time': '2021-09-19 01:00', 'value': None}</td>\n",
       "      <td>{'time': '2021-09-19 01:00', 'value': '684.50'}</td>\n",
       "      <td>{'time': '2021-09-19 01:00', 'value': None}</td>\n",
       "      <td>{'time': '2021-09-19 01:00', 'value': '1.37'}</td>\n",
       "    </tr>\n",
       "    <tr>\n",
       "      <th>2</th>\n",
       "      <td>{'time': '2021-09-19 02:00', 'value': None}</td>\n",
       "      <td>{'time': '2021-09-19 02:00', 'value': None}</td>\n",
       "      <td>{'time': '2021-09-19 02:00', 'value': None}</td>\n",
       "      <td>{'time': '2021-09-19 02:00', 'value': '602.80'}</td>\n",
       "      <td>{'time': '2021-09-19 02:00', 'value': None}</td>\n",
       "      <td>{'time': '2021-09-19 02:00', 'value': '0.59'}</td>\n",
       "    </tr>\n",
       "    <tr>\n",
       "      <th>3</th>\n",
       "      <td>{'time': '2021-09-19 03:00', 'value': None}</td>\n",
       "      <td>{'time': '2021-09-19 03:00', 'value': None}</td>\n",
       "      <td>{'time': '2021-09-19 03:00', 'value': None}</td>\n",
       "      <td>{'time': '2021-09-19 03:00', 'value': '658.40'}</td>\n",
       "      <td>{'time': '2021-09-19 03:00', 'value': None}</td>\n",
       "      <td>{'time': '2021-09-19 03:00', 'value': '0.93'}</td>\n",
       "    </tr>\n",
       "    <tr>\n",
       "      <th>4</th>\n",
       "      <td>{'time': '2021-09-19 04:00', 'value': None}</td>\n",
       "      <td>{'time': '2021-09-19 04:00', 'value': None}</td>\n",
       "      <td>{'time': '2021-09-19 04:00', 'value': None}</td>\n",
       "      <td>{'time': '2021-09-19 04:00', 'value': '753.20'}</td>\n",
       "      <td>{'time': '2021-09-19 04:00', 'value': None}</td>\n",
       "      <td>{'time': '2021-09-19 04:00', 'value': '1.11'}</td>\n",
       "    </tr>\n",
       "    <tr>\n",
       "      <th>...</th>\n",
       "      <td>...</td>\n",
       "      <td>...</td>\n",
       "      <td>...</td>\n",
       "      <td>...</td>\n",
       "      <td>...</td>\n",
       "      <td>...</td>\n",
       "    </tr>\n",
       "    <tr>\n",
       "      <th>445</th>\n",
       "      <td>{'time': '2021-10-07 13:00', 'value': None}</td>\n",
       "      <td>{'time': '2021-10-07 13:00', 'value': None}</td>\n",
       "      <td>{'time': '2021-10-07 13:00', 'value': None}</td>\n",
       "      <td>{'time': '2021-10-07 13:00', 'value': None}</td>\n",
       "      <td>{'time': '2021-10-07 13:00', 'value': None}</td>\n",
       "      <td>{'time': '2021-10-07 13:00', 'value': None}</td>\n",
       "    </tr>\n",
       "    <tr>\n",
       "      <th>446</th>\n",
       "      <td>{'time': '2021-10-07 14:00', 'value': None}</td>\n",
       "      <td>{'time': '2021-10-07 14:00', 'value': None}</td>\n",
       "      <td>{'time': '2021-10-07 14:00', 'value': None}</td>\n",
       "      <td>{'time': '2021-10-07 14:00', 'value': None}</td>\n",
       "      <td>{'time': '2021-10-07 14:00', 'value': None}</td>\n",
       "      <td>{'time': '2021-10-07 14:00', 'value': None}</td>\n",
       "    </tr>\n",
       "    <tr>\n",
       "      <th>447</th>\n",
       "      <td>{'time': '2021-10-07 15:00', 'value': None}</td>\n",
       "      <td>{'time': '2021-10-07 15:00', 'value': None}</td>\n",
       "      <td>{'time': '2021-10-07 15:00', 'value': None}</td>\n",
       "      <td>{'time': '2021-10-07 15:00', 'value': None}</td>\n",
       "      <td>{'time': '2021-10-07 15:00', 'value': None}</td>\n",
       "      <td>{'time': '2021-10-07 15:00', 'value': None}</td>\n",
       "    </tr>\n",
       "    <tr>\n",
       "      <th>448</th>\n",
       "      <td>{'time': '2021-10-07 16:00', 'value': None}</td>\n",
       "      <td>{'time': '2021-10-07 16:00', 'value': None}</td>\n",
       "      <td>{'time': '2021-10-07 16:00', 'value': None}</td>\n",
       "      <td>{'time': '2021-10-07 16:00', 'value': None}</td>\n",
       "      <td>{'time': '2021-10-07 16:00', 'value': None}</td>\n",
       "      <td>{'time': '2021-10-07 16:00', 'value': None}</td>\n",
       "    </tr>\n",
       "    <tr>\n",
       "      <th>449</th>\n",
       "      <td>{'time': '2021-10-07 17:00', 'value': None}</td>\n",
       "      <td>{'time': '2021-10-07 17:00', 'value': None}</td>\n",
       "      <td>{'time': '2021-10-07 17:00', 'value': None}</td>\n",
       "      <td>{'time': '2021-10-07 17:00', 'value': None}</td>\n",
       "      <td>{'time': '2021-10-07 17:00', 'value': None}</td>\n",
       "      <td>{'time': '2021-10-07 17:00', 'value': None}</td>\n",
       "    </tr>\n",
       "  </tbody>\n",
       "</table>\n",
       "<p>450 rows × 6 columns</p>\n",
       "</div>"
      ],
      "text/plain": [
       "                                           PM2.5  \\\n",
       "0    {'time': '2021-09-19 00:00', 'value': None}   \n",
       "1    {'time': '2021-09-19 01:00', 'value': None}   \n",
       "2    {'time': '2021-09-19 02:00', 'value': None}   \n",
       "3    {'time': '2021-09-19 03:00', 'value': None}   \n",
       "4    {'time': '2021-09-19 04:00', 'value': None}   \n",
       "..                                           ...   \n",
       "445  {'time': '2021-10-07 13:00', 'value': None}   \n",
       "446  {'time': '2021-10-07 14:00', 'value': None}   \n",
       "447  {'time': '2021-10-07 15:00', 'value': None}   \n",
       "448  {'time': '2021-10-07 16:00', 'value': None}   \n",
       "449  {'time': '2021-10-07 17:00', 'value': None}   \n",
       "\n",
       "                                            PM10  \\\n",
       "0    {'time': '2021-09-19 00:00', 'value': None}   \n",
       "1    {'time': '2021-09-19 01:00', 'value': None}   \n",
       "2    {'time': '2021-09-19 02:00', 'value': None}   \n",
       "3    {'time': '2021-09-19 03:00', 'value': None}   \n",
       "4    {'time': '2021-09-19 04:00', 'value': None}   \n",
       "..                                           ...   \n",
       "445  {'time': '2021-10-07 13:00', 'value': None}   \n",
       "446  {'time': '2021-10-07 14:00', 'value': None}   \n",
       "447  {'time': '2021-10-07 15:00', 'value': None}   \n",
       "448  {'time': '2021-10-07 16:00', 'value': None}   \n",
       "449  {'time': '2021-10-07 17:00', 'value': None}   \n",
       "\n",
       "                                             NO2  \\\n",
       "0    {'time': '2021-09-19 00:00', 'value': None}   \n",
       "1    {'time': '2021-09-19 01:00', 'value': None}   \n",
       "2    {'time': '2021-09-19 02:00', 'value': None}   \n",
       "3    {'time': '2021-09-19 03:00', 'value': None}   \n",
       "4    {'time': '2021-09-19 04:00', 'value': None}   \n",
       "..                                           ...   \n",
       "445  {'time': '2021-10-07 13:00', 'value': None}   \n",
       "446  {'time': '2021-10-07 14:00', 'value': None}   \n",
       "447  {'time': '2021-10-07 15:00', 'value': None}   \n",
       "448  {'time': '2021-10-07 16:00', 'value': None}   \n",
       "449  {'time': '2021-10-07 17:00', 'value': None}   \n",
       "\n",
       "                                                  CO  \\\n",
       "0    {'time': '2021-09-19 00:00', 'value': '714.30'}   \n",
       "1    {'time': '2021-09-19 01:00', 'value': '684.50'}   \n",
       "2    {'time': '2021-09-19 02:00', 'value': '602.80'}   \n",
       "3    {'time': '2021-09-19 03:00', 'value': '658.40'}   \n",
       "4    {'time': '2021-09-19 04:00', 'value': '753.20'}   \n",
       "..                                               ...   \n",
       "445      {'time': '2021-10-07 13:00', 'value': None}   \n",
       "446      {'time': '2021-10-07 14:00', 'value': None}   \n",
       "447      {'time': '2021-10-07 15:00', 'value': None}   \n",
       "448      {'time': '2021-10-07 16:00', 'value': None}   \n",
       "449      {'time': '2021-10-07 17:00', 'value': None}   \n",
       "\n",
       "                                             SO2  \\\n",
       "0    {'time': '2021-09-19 00:00', 'value': None}   \n",
       "1    {'time': '2021-09-19 01:00', 'value': None}   \n",
       "2    {'time': '2021-09-19 02:00', 'value': None}   \n",
       "3    {'time': '2021-09-19 03:00', 'value': None}   \n",
       "4    {'time': '2021-09-19 04:00', 'value': None}   \n",
       "..                                           ...   \n",
       "445  {'time': '2021-10-07 13:00', 'value': None}   \n",
       "446  {'time': '2021-10-07 14:00', 'value': None}   \n",
       "447  {'time': '2021-10-07 15:00', 'value': None}   \n",
       "448  {'time': '2021-10-07 16:00', 'value': None}   \n",
       "449  {'time': '2021-10-07 17:00', 'value': None}   \n",
       "\n",
       "                                                O3  \n",
       "0    {'time': '2021-09-19 00:00', 'value': '1.00'}  \n",
       "1    {'time': '2021-09-19 01:00', 'value': '1.37'}  \n",
       "2    {'time': '2021-09-19 02:00', 'value': '0.59'}  \n",
       "3    {'time': '2021-09-19 03:00', 'value': '0.93'}  \n",
       "4    {'time': '2021-09-19 04:00', 'value': '1.11'}  \n",
       "..                                             ...  \n",
       "445    {'time': '2021-10-07 13:00', 'value': None}  \n",
       "446    {'time': '2021-10-07 14:00', 'value': None}  \n",
       "447    {'time': '2021-10-07 15:00', 'value': None}  \n",
       "448    {'time': '2021-10-07 16:00', 'value': None}  \n",
       "449    {'time': '2021-10-07 17:00', 'value': None}  \n",
       "\n",
       "[450 rows x 6 columns]"
      ]
     },
     "execution_count": 5,
     "metadata": {},
     "output_type": "execute_result"
    }
   ],
   "source": [
    "_stat_URL = \"https://moitruongthudo.vn/public/dailystat/\"\n",
    "r = requests.get(url = _stat_URL + str(15))\n",
    "data = r.json()\n",
    "data = pd.DataFrame(data)\n",
    "data"
   ]
  },
  {
   "cell_type": "markdown",
   "metadata": {},
   "source": [
    "### Get raw data from moitruongthudo.vn"
   ]
  },
  {
   "cell_type": "code",
   "execution_count": 6,
   "metadata": {},
   "outputs": [
    {
     "name": "stdout",
     "output_type": "stream",
     "text": [
      "done: 1 site\n",
      "done: 7 site\n",
      "done: 8 site\n",
      "done: 9 site\n",
      "done: 10 site\n",
      "done: 11 site\n",
      "done: 12 site\n",
      "done: 13 site\n",
      "done: 14 site\n",
      "done: 15 site\n",
      "done: 16 site\n",
      "done: 24 site\n",
      "done: 25 site\n",
      "done: 26 site\n",
      "done: 27 site\n",
      "done: 28 site\n",
      "done: 29 site\n",
      "done: 30 site\n",
      "done: 31 site\n",
      "done: 32 site\n",
      "done: 33 site\n",
      "done: 34 site\n",
      "done: 35 site\n",
      "done: 36 site\n",
      "done: 37 site\n",
      "done: 38 site\n",
      "done: 39 site\n",
      "done: 40 site\n",
      "done: 41 site\n",
      "done: 42 site\n",
      "done: 43 site\n",
      "done: 44 site\n",
      "done: 45 site\n",
      "done: 46 site\n",
      "done: 47 site\n",
      "total time in ms: 190614.24708366394ms\n"
     ]
    }
   ],
   "source": [
    "import datetime\n",
    "import csv\n",
    "import asyncio\n",
    "import requests\n",
    "import pandas as pd\n",
    "import time\n",
    "idx = pd.IndexSlice\n",
    "\n",
    "tic = time.time()\n",
    "_stat_URL = \"https://moitruongthudo.vn/public/dailystat/\"\n",
    "_site_id = pd.DataFrame(site_data['id'])\n",
    "changed_raw_file = []\n",
    "\n",
    "# async def get_indv_data(parameter, site_id):\n",
    "#     r = requests.get(url = _stat_URL + parameter + '/', params = {'site_id': site_id})\n",
    "#     print(_stat_URL + parameter + '/')\n",
    "#     data = r.json()\n",
    "#     data = pd.DataFrame(data)\n",
    "#     data['parameter'] = parameter\n",
    "#     return data\n",
    "\n",
    "async def get_indv_data(site_id):\n",
    "    r = requests.get(url = _stat_URL + str(site_id))\n",
    "    data = r.json()\n",
    "    data = pd.DataFrame(data)\n",
    "    return data\n",
    "\n",
    "async def data_processing(raw_data, site_id, latest_time, data_good=True):\n",
    "    processed_raw_data = []\n",
    "    column_order = ['site_id', 'time', 'CO', 'NO2', 'O3', 'PM10', 'PM2.5', 'SO2']\n",
    "\n",
    "    for col in data.columns:\n",
    "        col_data = pd.DataFrame(data.loc[:, col].values.tolist()).rename(columns={'value': col})\n",
    "        processed_raw_data.append(col_data)\n",
    "\n",
    "    processed_raw_data = pd.concat(processed_raw_data, axis=1)\n",
    "    processed_raw_data = processed_raw_data.loc[:,~processed_raw_data.columns.duplicated()]\n",
    "    processed_raw_data = processed_raw_data.fillna(value=0)\n",
    "    processed_raw_data = processed_raw_data.reindex(column_order, axis='columns', fill_value=0)\n",
    "    processed_raw_data = processed_raw_data[column_order]\n",
    "        \n",
    "    processed_raw_data['time'] = pd.to_datetime(processed_raw_data['time'], format=\"%Y-%m-%d %H:%M:%S\")\n",
    "    processed_raw_data = processed_raw_data[processed_raw_data['time'] > latest_time]\n",
    "    processed_raw_data['site_id'] = site_id\n",
    "    processed_raw_data.rename({'PM2.5': 'PM25'}, axis=1, inplace=True)\n",
    "    # processed_raw_data.reset_index(inplace=True)\n",
    "    # print(processed_raw_data.columns)\n",
    "    return processed_raw_data\n",
    "\n",
    "async def get_site_data(site_id, latest_time):\n",
    "    site_data = pd.DataFrame()\n",
    "    raw_data = await get_indv_data(site_id)\n",
    "    site_data = await data_processing(raw_data, site_id, latest_time)\n",
    "    return site_data\n",
    "\n",
    "async def update_raw_files(site_id):\n",
    "    csv_path_name = os.path.join(PROJ_ROOT,\n",
    "                                \"data\",\n",
    "                                \"raw\",\n",
    "                                \"{}.csv\".format(site_id))\n",
    "    try:\n",
    "        exist_data = pd.read_csv(csv_path_name)\n",
    "    except FileNotFoundError: \n",
    "        print(\"No data for site {}\".format(site_id))\n",
    "        exist_data = []\n",
    "    if len(exist_data) != 0:\n",
    "        # Convert column to date\n",
    "        exist_data['time'] = pd.to_datetime(exist_data['time'], format=\"%Y-%m-%d %H:%M:%S\")\n",
    "        # Find the latest datetime\n",
    "        latest_time = exist_data['time'].max()\n",
    "        # Get data for site\n",
    "        site_data = await get_site_data(site_id, latest_time)\n",
    "        # Check in exist data from mintime of site_data to latest_time of exist data have 0\n",
    "        global new_data_min_time \n",
    "        new_data_min_time = site_data['time'].min()\n",
    "        tmp_data = exist_data[exist_data['time']>=new_data_min_time].copy()\n",
    "        tmp_data = tmp_data[tmp_data.PM25.isin([0])]\n",
    "        # If there is 0 in old data, delete all data till mintime of new data and write new file\n",
    "        if tmp_data.shape[0] != 0:\n",
    "            exist_data = exist_data[exist_data['time']<new_data_min_time]\n",
    "            new_site_data = pd.concat([exist_data, site_data])\n",
    "            new_site_data.to_csv(csv_path_name, index=False, mode='w')\n",
    "            global changed_raw_file\n",
    "            changed_raw_file.append(site_id)\n",
    "        else:\n",
    "            site_data = site_data[site_data['time']>latest_time]\n",
    "            site_data.to_csv(csv_path_name, header=False, index=False, mode='a')\n",
    "        print('done: {} site'.format(site_id))\n",
    "    return None\n",
    "\n",
    "tasks = list(_site_id.apply(lambda site_id: update_raw_files(site_id.values[0]), axis=1))\n",
    "all_done = await asyncio.gather(*tasks)\n",
    "toc = time.time()\n",
    "print('total time in ms: {}ms'.format(1000 * (toc - tic)))"
   ]
  },
  {
   "cell_type": "code",
   "execution_count": 7,
   "metadata": {},
   "outputs": [],
   "source": [
    "def fix_file_and_data():\n",
    "    # Sometime when pulling raw data from internet we have some string mixed in\n",
    "    # This function search for those string and change them to float\n",
    "    return None"
   ]
  },
  {
   "cell_type": "markdown",
   "metadata": {},
   "source": [
    "### Update interim data with newly collected data"
   ]
  },
  {
   "cell_type": "code",
   "execution_count": 8,
   "metadata": {},
   "outputs": [
    {
     "name": "stdout",
     "output_type": "stream",
     "text": [
      "Site 1, min_time 2021-09-29 07:00:00, interim 2021-09-29 06:00:00\n"
     ]
    },
    {
     "name": "stderr",
     "output_type": "stream",
     "text": [
      "/mnt/4ba37af6-51fd-47bc-8321-8c500c229114/study/School/KHOA LUAN TOT NGHIEP/runnable_program/notebooks/../src/features/calculate_AQI.py:103: RuntimeWarning: invalid value encountered in double_scalars\n",
      "  w = min_value / max_value\n"
     ]
    },
    {
     "name": "stdout",
     "output_type": "stream",
     "text": [
      "done: 1 site\n",
      "Site 7, min_time 2021-09-29 07:00:00, interim 2021-09-29 06:00:00\n"
     ]
    },
    {
     "name": "stderr",
     "output_type": "stream",
     "text": [
      "/mnt/4ba37af6-51fd-47bc-8321-8c500c229114/study/School/KHOA LUAN TOT NGHIEP/runnable_program/notebooks/../src/features/calculate_AQI.py:103: RuntimeWarning: invalid value encountered in double_scalars\n",
      "  w = min_value / max_value\n"
     ]
    },
    {
     "name": "stdout",
     "output_type": "stream",
     "text": [
      "done: 7 site\n",
      "Site 8, min_time 2021-09-29 07:00:00, interim 2021-09-29 06:00:00\n"
     ]
    },
    {
     "name": "stderr",
     "output_type": "stream",
     "text": [
      "/mnt/4ba37af6-51fd-47bc-8321-8c500c229114/study/School/KHOA LUAN TOT NGHIEP/runnable_program/notebooks/../src/features/calculate_AQI.py:103: RuntimeWarning: invalid value encountered in double_scalars\n",
      "  w = min_value / max_value\n"
     ]
    },
    {
     "name": "stdout",
     "output_type": "stream",
     "text": [
      "done: 8 site\n",
      "Site 9, min_time 2021-09-29 07:00:00, interim 2021-09-29 06:00:00\n"
     ]
    },
    {
     "name": "stderr",
     "output_type": "stream",
     "text": [
      "/mnt/4ba37af6-51fd-47bc-8321-8c500c229114/study/School/KHOA LUAN TOT NGHIEP/runnable_program/notebooks/../src/features/calculate_AQI.py:103: RuntimeWarning: invalid value encountered in double_scalars\n",
      "  w = min_value / max_value\n"
     ]
    },
    {
     "name": "stdout",
     "output_type": "stream",
     "text": [
      "done: 9 site\n",
      "Site 10, min_time 2021-09-29 07:00:00, interim 2021-09-29 06:00:00\n"
     ]
    },
    {
     "name": "stderr",
     "output_type": "stream",
     "text": [
      "/mnt/4ba37af6-51fd-47bc-8321-8c500c229114/study/School/KHOA LUAN TOT NGHIEP/runnable_program/notebooks/../src/features/calculate_AQI.py:103: RuntimeWarning: invalid value encountered in double_scalars\n",
      "  w = min_value / max_value\n"
     ]
    },
    {
     "name": "stdout",
     "output_type": "stream",
     "text": [
      "done: 10 site\n",
      "Site 11, min_time 2021-09-29 07:00:00, interim 2021-09-29 06:00:00\n"
     ]
    },
    {
     "name": "stderr",
     "output_type": "stream",
     "text": [
      "/mnt/4ba37af6-51fd-47bc-8321-8c500c229114/study/School/KHOA LUAN TOT NGHIEP/runnable_program/notebooks/../src/features/calculate_AQI.py:103: RuntimeWarning: invalid value encountered in double_scalars\n",
      "  w = min_value / max_value\n"
     ]
    },
    {
     "name": "stdout",
     "output_type": "stream",
     "text": [
      "done: 11 site\n",
      "Site 12, min_time 2021-09-29 07:00:00, interim 2021-09-29 06:00:00\n"
     ]
    },
    {
     "name": "stderr",
     "output_type": "stream",
     "text": [
      "/mnt/4ba37af6-51fd-47bc-8321-8c500c229114/study/School/KHOA LUAN TOT NGHIEP/runnable_program/notebooks/../src/features/calculate_AQI.py:103: RuntimeWarning: invalid value encountered in double_scalars\n",
      "  w = min_value / max_value\n"
     ]
    },
    {
     "name": "stdout",
     "output_type": "stream",
     "text": [
      "done: 12 site\n",
      "Site 13, min_time 2021-09-29 07:00:00, interim 2021-09-29 06:00:00\n"
     ]
    },
    {
     "name": "stderr",
     "output_type": "stream",
     "text": [
      "/mnt/4ba37af6-51fd-47bc-8321-8c500c229114/study/School/KHOA LUAN TOT NGHIEP/runnable_program/notebooks/../src/features/calculate_AQI.py:103: RuntimeWarning: invalid value encountered in double_scalars\n",
      "  w = min_value / max_value\n"
     ]
    },
    {
     "name": "stdout",
     "output_type": "stream",
     "text": [
      "done: 13 site\n",
      "Site 14, min_time 2021-09-29 07:00:00, interim 2021-09-29 06:00:00\n"
     ]
    },
    {
     "name": "stderr",
     "output_type": "stream",
     "text": [
      "/mnt/4ba37af6-51fd-47bc-8321-8c500c229114/study/School/KHOA LUAN TOT NGHIEP/runnable_program/notebooks/../src/features/calculate_AQI.py:103: RuntimeWarning: invalid value encountered in double_scalars\n",
      "  w = min_value / max_value\n"
     ]
    },
    {
     "name": "stdout",
     "output_type": "stream",
     "text": [
      "done: 14 site\n",
      "Site 15, min_time 2021-09-29 07:00:00, interim 2021-09-29 06:00:00\n"
     ]
    },
    {
     "name": "stderr",
     "output_type": "stream",
     "text": [
      "/mnt/4ba37af6-51fd-47bc-8321-8c500c229114/study/School/KHOA LUAN TOT NGHIEP/runnable_program/notebooks/../src/features/calculate_AQI.py:103: RuntimeWarning: invalid value encountered in double_scalars\n",
      "  w = min_value / max_value\n"
     ]
    },
    {
     "name": "stdout",
     "output_type": "stream",
     "text": [
      "done: 15 site\n",
      "Error for site 16\n",
      "Site 24, min_time 2021-09-29 07:00:00, interim 2021-09-29 06:00:00\n"
     ]
    },
    {
     "name": "stderr",
     "output_type": "stream",
     "text": [
      "/mnt/4ba37af6-51fd-47bc-8321-8c500c229114/study/School/KHOA LUAN TOT NGHIEP/runnable_program/notebooks/../src/features/calculate_AQI.py:103: RuntimeWarning: invalid value encountered in double_scalars\n",
      "  w = min_value / max_value\n"
     ]
    },
    {
     "name": "stdout",
     "output_type": "stream",
     "text": [
      "done: 24 site\n",
      "Site 25, min_time 2021-09-29 07:00:00, interim 2021-09-29 06:00:00\n"
     ]
    },
    {
     "name": "stderr",
     "output_type": "stream",
     "text": [
      "/mnt/4ba37af6-51fd-47bc-8321-8c500c229114/study/School/KHOA LUAN TOT NGHIEP/runnable_program/notebooks/../src/features/calculate_AQI.py:103: RuntimeWarning: invalid value encountered in double_scalars\n",
      "  w = min_value / max_value\n"
     ]
    },
    {
     "name": "stdout",
     "output_type": "stream",
     "text": [
      "done: 25 site\n",
      "Site 26, min_time 2021-09-29 07:00:00, interim 2021-09-29 06:00:00\n"
     ]
    },
    {
     "name": "stderr",
     "output_type": "stream",
     "text": [
      "/mnt/4ba37af6-51fd-47bc-8321-8c500c229114/study/School/KHOA LUAN TOT NGHIEP/runnable_program/notebooks/../src/features/calculate_AQI.py:103: RuntimeWarning: invalid value encountered in double_scalars\n",
      "  w = min_value / max_value\n"
     ]
    },
    {
     "name": "stdout",
     "output_type": "stream",
     "text": [
      "done: 26 site\n",
      "Site 27, min_time 2021-09-29 07:00:00, interim 2021-09-29 06:00:00\n"
     ]
    },
    {
     "name": "stderr",
     "output_type": "stream",
     "text": [
      "/mnt/4ba37af6-51fd-47bc-8321-8c500c229114/study/School/KHOA LUAN TOT NGHIEP/runnable_program/notebooks/../src/features/calculate_AQI.py:103: RuntimeWarning: invalid value encountered in double_scalars\n",
      "  w = min_value / max_value\n"
     ]
    },
    {
     "name": "stdout",
     "output_type": "stream",
     "text": [
      "done: 27 site\n",
      "Site 28, min_time 2021-09-29 07:00:00, interim 2021-09-29 06:00:00\n"
     ]
    },
    {
     "name": "stderr",
     "output_type": "stream",
     "text": [
      "/mnt/4ba37af6-51fd-47bc-8321-8c500c229114/study/School/KHOA LUAN TOT NGHIEP/runnable_program/notebooks/../src/features/calculate_AQI.py:103: RuntimeWarning: invalid value encountered in double_scalars\n",
      "  w = min_value / max_value\n"
     ]
    },
    {
     "name": "stdout",
     "output_type": "stream",
     "text": [
      "done: 28 site\n",
      "Site 29, min_time 2021-09-29 07:00:00, interim 2021-09-29 06:00:00\n"
     ]
    },
    {
     "name": "stderr",
     "output_type": "stream",
     "text": [
      "/mnt/4ba37af6-51fd-47bc-8321-8c500c229114/study/School/KHOA LUAN TOT NGHIEP/runnable_program/notebooks/../src/features/calculate_AQI.py:103: RuntimeWarning: invalid value encountered in double_scalars\n",
      "  w = min_value / max_value\n"
     ]
    },
    {
     "name": "stdout",
     "output_type": "stream",
     "text": [
      "done: 29 site\n",
      "Site 30, min_time 2021-09-29 07:00:00, interim 2021-09-29 06:00:00\n"
     ]
    },
    {
     "name": "stderr",
     "output_type": "stream",
     "text": [
      "/mnt/4ba37af6-51fd-47bc-8321-8c500c229114/study/School/KHOA LUAN TOT NGHIEP/runnable_program/notebooks/../src/features/calculate_AQI.py:103: RuntimeWarning: invalid value encountered in double_scalars\n",
      "  w = min_value / max_value\n"
     ]
    },
    {
     "name": "stdout",
     "output_type": "stream",
     "text": [
      "done: 30 site\n",
      "Site 31, min_time 2021-09-29 07:00:00, interim 2021-09-29 06:00:00\n"
     ]
    },
    {
     "name": "stderr",
     "output_type": "stream",
     "text": [
      "/mnt/4ba37af6-51fd-47bc-8321-8c500c229114/study/School/KHOA LUAN TOT NGHIEP/runnable_program/notebooks/../src/features/calculate_AQI.py:103: RuntimeWarning: invalid value encountered in double_scalars\n",
      "  w = min_value / max_value\n"
     ]
    },
    {
     "name": "stdout",
     "output_type": "stream",
     "text": [
      "done: 31 site\n",
      "Site 32, min_time 2021-09-29 07:00:00, interim 2021-09-29 06:00:00\n"
     ]
    },
    {
     "name": "stderr",
     "output_type": "stream",
     "text": [
      "/mnt/4ba37af6-51fd-47bc-8321-8c500c229114/study/School/KHOA LUAN TOT NGHIEP/runnable_program/notebooks/../src/features/calculate_AQI.py:103: RuntimeWarning: invalid value encountered in double_scalars\n",
      "  w = min_value / max_value\n"
     ]
    },
    {
     "name": "stdout",
     "output_type": "stream",
     "text": [
      "done: 32 site\n",
      "Site 33, min_time 2021-09-29 07:00:00, interim 2021-09-29 06:00:00\n"
     ]
    },
    {
     "name": "stderr",
     "output_type": "stream",
     "text": [
      "/mnt/4ba37af6-51fd-47bc-8321-8c500c229114/study/School/KHOA LUAN TOT NGHIEP/runnable_program/notebooks/../src/features/calculate_AQI.py:103: RuntimeWarning: invalid value encountered in double_scalars\n",
      "  w = min_value / max_value\n"
     ]
    },
    {
     "name": "stdout",
     "output_type": "stream",
     "text": [
      "done: 33 site\n",
      "Site 34, min_time 2021-09-29 07:00:00, interim 2021-09-29 06:00:00\n"
     ]
    },
    {
     "name": "stderr",
     "output_type": "stream",
     "text": [
      "/mnt/4ba37af6-51fd-47bc-8321-8c500c229114/study/School/KHOA LUAN TOT NGHIEP/runnable_program/notebooks/../src/features/calculate_AQI.py:103: RuntimeWarning: invalid value encountered in double_scalars\n",
      "  w = min_value / max_value\n"
     ]
    },
    {
     "name": "stdout",
     "output_type": "stream",
     "text": [
      "done: 34 site\n",
      "Site 35, min_time 2021-09-29 07:00:00, interim 2021-09-29 06:00:00\n"
     ]
    },
    {
     "name": "stderr",
     "output_type": "stream",
     "text": [
      "/mnt/4ba37af6-51fd-47bc-8321-8c500c229114/study/School/KHOA LUAN TOT NGHIEP/runnable_program/notebooks/../src/features/calculate_AQI.py:103: RuntimeWarning: invalid value encountered in double_scalars\n",
      "  w = min_value / max_value\n"
     ]
    },
    {
     "name": "stdout",
     "output_type": "stream",
     "text": [
      "done: 35 site\n",
      "Site 36, min_time 2021-09-29 07:00:00, interim 2021-09-29 06:00:00\n"
     ]
    },
    {
     "name": "stderr",
     "output_type": "stream",
     "text": [
      "/mnt/4ba37af6-51fd-47bc-8321-8c500c229114/study/School/KHOA LUAN TOT NGHIEP/runnable_program/notebooks/../src/features/calculate_AQI.py:103: RuntimeWarning: invalid value encountered in double_scalars\n",
      "  w = min_value / max_value\n"
     ]
    },
    {
     "name": "stdout",
     "output_type": "stream",
     "text": [
      "done: 36 site\n",
      "Site 37, min_time 2021-09-29 07:00:00, interim 2021-09-29 06:00:00\n"
     ]
    },
    {
     "name": "stderr",
     "output_type": "stream",
     "text": [
      "/mnt/4ba37af6-51fd-47bc-8321-8c500c229114/study/School/KHOA LUAN TOT NGHIEP/runnable_program/notebooks/../src/features/calculate_AQI.py:103: RuntimeWarning: invalid value encountered in double_scalars\n",
      "  w = min_value / max_value\n"
     ]
    },
    {
     "name": "stdout",
     "output_type": "stream",
     "text": [
      "done: 37 site\n",
      "Site 38, min_time 2021-09-29 07:00:00, interim 2021-09-29 06:00:00\n"
     ]
    },
    {
     "name": "stderr",
     "output_type": "stream",
     "text": [
      "/mnt/4ba37af6-51fd-47bc-8321-8c500c229114/study/School/KHOA LUAN TOT NGHIEP/runnable_program/notebooks/../src/features/calculate_AQI.py:103: RuntimeWarning: invalid value encountered in double_scalars\n",
      "  w = min_value / max_value\n"
     ]
    },
    {
     "name": "stdout",
     "output_type": "stream",
     "text": [
      "done: 38 site\n",
      "Site 39, min_time 2021-09-29 07:00:00, interim 2021-09-29 06:00:00\n"
     ]
    },
    {
     "name": "stderr",
     "output_type": "stream",
     "text": [
      "/mnt/4ba37af6-51fd-47bc-8321-8c500c229114/study/School/KHOA LUAN TOT NGHIEP/runnable_program/notebooks/../src/features/calculate_AQI.py:103: RuntimeWarning: invalid value encountered in double_scalars\n",
      "  w = min_value / max_value\n"
     ]
    },
    {
     "name": "stdout",
     "output_type": "stream",
     "text": [
      "done: 39 site\n",
      "Site 40, min_time 2021-09-29 07:00:00, interim 2021-09-29 06:00:00\n"
     ]
    },
    {
     "name": "stderr",
     "output_type": "stream",
     "text": [
      "/mnt/4ba37af6-51fd-47bc-8321-8c500c229114/study/School/KHOA LUAN TOT NGHIEP/runnable_program/notebooks/../src/features/calculate_AQI.py:103: RuntimeWarning: invalid value encountered in double_scalars\n",
      "  w = min_value / max_value\n"
     ]
    },
    {
     "name": "stdout",
     "output_type": "stream",
     "text": [
      "done: 40 site\n",
      "Site 41, min_time 2021-09-29 07:00:00, interim 2021-09-29 06:00:00\n"
     ]
    },
    {
     "name": "stderr",
     "output_type": "stream",
     "text": [
      "/mnt/4ba37af6-51fd-47bc-8321-8c500c229114/study/School/KHOA LUAN TOT NGHIEP/runnable_program/notebooks/../src/features/calculate_AQI.py:103: RuntimeWarning: invalid value encountered in double_scalars\n",
      "  w = min_value / max_value\n"
     ]
    },
    {
     "name": "stdout",
     "output_type": "stream",
     "text": [
      "done: 41 site\n",
      "Site 42, min_time 2021-09-29 07:00:00, interim 2021-09-29 06:00:00\n"
     ]
    },
    {
     "name": "stderr",
     "output_type": "stream",
     "text": [
      "/mnt/4ba37af6-51fd-47bc-8321-8c500c229114/study/School/KHOA LUAN TOT NGHIEP/runnable_program/notebooks/../src/features/calculate_AQI.py:103: RuntimeWarning: invalid value encountered in double_scalars\n",
      "  w = min_value / max_value\n"
     ]
    },
    {
     "name": "stdout",
     "output_type": "stream",
     "text": [
      "done: 42 site\n",
      "Site 43, min_time 2021-09-29 07:00:00, interim 2021-09-29 06:00:00\n"
     ]
    },
    {
     "name": "stderr",
     "output_type": "stream",
     "text": [
      "/mnt/4ba37af6-51fd-47bc-8321-8c500c229114/study/School/KHOA LUAN TOT NGHIEP/runnable_program/notebooks/../src/features/calculate_AQI.py:103: RuntimeWarning: invalid value encountered in double_scalars\n",
      "  w = min_value / max_value\n"
     ]
    },
    {
     "name": "stdout",
     "output_type": "stream",
     "text": [
      "done: 43 site\n",
      "Site 44, min_time 2021-09-29 07:00:00, interim 2021-09-29 06:00:00\n"
     ]
    },
    {
     "name": "stderr",
     "output_type": "stream",
     "text": [
      "/mnt/4ba37af6-51fd-47bc-8321-8c500c229114/study/School/KHOA LUAN TOT NGHIEP/runnable_program/notebooks/../src/features/calculate_AQI.py:103: RuntimeWarning: invalid value encountered in double_scalars\n",
      "  w = min_value / max_value\n"
     ]
    },
    {
     "name": "stdout",
     "output_type": "stream",
     "text": [
      "done: 44 site\n",
      "Site 45, min_time 2021-09-29 07:00:00, interim 2021-09-29 06:00:00\n"
     ]
    },
    {
     "name": "stderr",
     "output_type": "stream",
     "text": [
      "/mnt/4ba37af6-51fd-47bc-8321-8c500c229114/study/School/KHOA LUAN TOT NGHIEP/runnable_program/notebooks/../src/features/calculate_AQI.py:103: RuntimeWarning: invalid value encountered in double_scalars\n",
      "  w = min_value / max_value\n"
     ]
    },
    {
     "name": "stdout",
     "output_type": "stream",
     "text": [
      "done: 45 site\n",
      "Site 46, min_time 2021-09-29 07:00:00, interim 2021-09-29 06:00:00\n"
     ]
    },
    {
     "name": "stderr",
     "output_type": "stream",
     "text": [
      "/mnt/4ba37af6-51fd-47bc-8321-8c500c229114/study/School/KHOA LUAN TOT NGHIEP/runnable_program/notebooks/../src/features/calculate_AQI.py:103: RuntimeWarning: invalid value encountered in double_scalars\n",
      "  w = min_value / max_value\n"
     ]
    },
    {
     "name": "stdout",
     "output_type": "stream",
     "text": [
      "done: 46 site\n",
      "Site 47, min_time 2021-09-29 07:00:00, interim 2021-09-29 06:00:00\n"
     ]
    },
    {
     "name": "stderr",
     "output_type": "stream",
     "text": [
      "/mnt/4ba37af6-51fd-47bc-8321-8c500c229114/study/School/KHOA LUAN TOT NGHIEP/runnable_program/notebooks/../src/features/calculate_AQI.py:103: RuntimeWarning: invalid value encountered in double_scalars\n",
      "  w = min_value / max_value\n"
     ]
    },
    {
     "name": "stdout",
     "output_type": "stream",
     "text": [
      "done: 47 site\n"
     ]
    },
    {
     "ename": "UnboundLocalError",
     "evalue": "local variable 'interim_data' referenced before assignment",
     "output_type": "error",
     "traceback": [
      "\u001b[0;31m---------------------------------------------------------------------------\u001b[0m",
      "\u001b[0;31mUnboundLocalError\u001b[0m                         Traceback (most recent call last)",
      "\u001b[0;32m<ipython-input-8-b827b654cd3c>\u001b[0m in \u001b[0;36m<module>\u001b[0;34m\u001b[0m\n\u001b[1;32m     68\u001b[0m     lambda site_id: update_interim_files(site_id.values[0]), axis=1))\n\u001b[1;32m     69\u001b[0m \u001b[0;34m\u001b[0m\u001b[0m\n\u001b[0;32m---> 70\u001b[0;31m \u001b[0mall_done\u001b[0m \u001b[0;34m=\u001b[0m \u001b[0;32mawait\u001b[0m \u001b[0masyncio\u001b[0m\u001b[0;34m.\u001b[0m\u001b[0mgather\u001b[0m\u001b[0;34m(\u001b[0m\u001b[0;34m*\u001b[0m\u001b[0mtasks\u001b[0m\u001b[0;34m)\u001b[0m\u001b[0;34m\u001b[0m\u001b[0;34m\u001b[0m\u001b[0m\n\u001b[0m\u001b[1;32m     71\u001b[0m \u001b[0;34m\u001b[0m\u001b[0m\n\u001b[1;32m     72\u001b[0m changed_file_tasks = list(_changed_raw_site_id.apply(\n",
      "\u001b[0;32m<ipython-input-8-b827b654cd3c>\u001b[0m in \u001b[0;36mupdate_interim_files\u001b[0;34m(site_id, changed_raw_file)\u001b[0m\n\u001b[1;32m     39\u001b[0m \u001b[0;34m\u001b[0m\u001b[0m\n\u001b[1;32m     40\u001b[0m         \u001b[0;32mif\u001b[0m \u001b[0mchanged_raw_file\u001b[0m\u001b[0;34m==\u001b[0m\u001b[0;32mFalse\u001b[0m\u001b[0;34m:\u001b[0m\u001b[0;34m\u001b[0m\u001b[0;34m\u001b[0m\u001b[0m\n\u001b[0;32m---> 41\u001b[0;31m             \u001b[0minterim_latest_time\u001b[0m \u001b[0;34m=\u001b[0m \u001b[0minterim_data\u001b[0m\u001b[0;34m.\u001b[0m\u001b[0mindex\u001b[0m\u001b[0;34m.\u001b[0m\u001b[0mget_level_values\u001b[0m\u001b[0;34m(\u001b[0m\u001b[0;36m1\u001b[0m\u001b[0;34m)\u001b[0m\u001b[0;34m.\u001b[0m\u001b[0mmax\u001b[0m\u001b[0;34m(\u001b[0m\u001b[0;34m)\u001b[0m\u001b[0;34m\u001b[0m\u001b[0;34m\u001b[0m\u001b[0m\n\u001b[0m\u001b[1;32m     42\u001b[0m         \u001b[0;32melse\u001b[0m\u001b[0;34m:\u001b[0m\u001b[0;34m\u001b[0m\u001b[0;34m\u001b[0m\u001b[0m\n\u001b[1;32m     43\u001b[0m             \u001b[0;32mglobal\u001b[0m \u001b[0mnew_data_min_time\u001b[0m\u001b[0;34m\u001b[0m\u001b[0;34m\u001b[0m\u001b[0m\n",
      "\u001b[0;31mUnboundLocalError\u001b[0m: local variable 'interim_data' referenced before assignment"
     ]
    }
   ],
   "source": [
    "# Job: take last time from interim_data\n",
    "# @aimport features\n",
    "from features import calculate_AQI\n",
    "import pandas as pd\n",
    "import numpy as np\n",
    "import glob\n",
    "import xarray as xr\n",
    "\n",
    "def exclusion(list1, list2):\n",
    "    return list(set(list1) - set(list2))\n",
    "\n",
    "_changed_raw_site_id = pd.DataFrame(changed_raw_file)\n",
    "_site_id = pd.DataFrame(exclusion(_site_id.values.ravel(), changed_raw_file))\n",
    "\n",
    "\n",
    "async def update_interim_files(site_id, changed_raw_file=False):\n",
    "    _raw_path_name = os.path.join(PROJ_ROOT,\n",
    "                                 \"data\",\n",
    "                                 \"raw\",\n",
    "                                 \"{}.csv\".format(site_id))\n",
    "    _interim_path_name = os.path.join(PROJ_ROOT,\n",
    "                                     \"data\",\n",
    "                                     \"interim\",\n",
    "                                     \"{}.csv\".format(site_id))\n",
    "    try:\n",
    "        raw_data = pd.read_csv(\n",
    "            _raw_path_name, parse_dates=True, index_col=['site_id', 'time'])\n",
    "        interim_data = pd.read_csv(\n",
    "            _interim_path_name, parse_dates=True, index_col=['site_id', 'time'])\n",
    "    except FileNotFoundError:\n",
    "        print(\"No data for site {}\".format(site_id))\n",
    "        raw_data = []\n",
    "        interim_data = []\n",
    "    except:\n",
    "        print(\"Error for site {}\".format(site_id))\n",
    "    if len(raw_data) != 0:\n",
    "        # Find the latest datetime\n",
    "        raw_latest_time = raw_data.index.get_level_values(1).max()\n",
    "\n",
    "        if changed_raw_file==False:\n",
    "            interim_latest_time = interim_data.index.get_level_values(1).max()\n",
    "        else:\n",
    "            global new_data_min_time\n",
    "            interim_latest_time = new_data_min_time\n",
    "        print(\"Site {}, min_time {}, interim {}\".format(site_id, new_data_min_time, interim_latest_time))\n",
    "        # Trim raw_data time/ features\n",
    "        raw_data = raw_data[raw_data.index.get_level_values(\n",
    "            1) >= (interim_latest_time - pd.Timedelta(hours=12))]\n",
    "        raw_data = raw_data[['CO', 'NO2', 'PM25']]\n",
    "        # Calculate AQI\n",
    "        AQI = calculate_AQI.calculate_AQI_h(raw_data)\n",
    "        # Trim AQI to interim latest time\n",
    "        AQI = AQI[AQI.index.get_level_values(1) >= interim_latest_time]\n",
    "        if changed_raw_file==False:\n",
    "            AQI.to_csv(_interim_path_name, header=False, mode='a')\n",
    "        else:\n",
    "            # Trim interim_data to new latest time\n",
    "            interim_data = interim_data[interim_data.index.get_level_values(1) < interim_latest_time]\n",
    "            interim_data.reset_index(inplace=True)\n",
    "            AQI.reset_index(inplace=True)\n",
    "            new_AQI = pd.concat([interim_data, AQI])\n",
    "            new_AQI.to_csv(_interim_path_name, index=False, mode='w')\n",
    "        print('done: {} site'.format(site_id))\n",
    "    return None\n",
    "\n",
    "\n",
    "tasks = list(_site_id.apply(\n",
    "    lambda site_id: update_interim_files(site_id.values[0]), axis=1))\n",
    "\n",
    "all_done = await asyncio.gather(*tasks)\n",
    "\n",
    "changed_file_tasks = list(_changed_raw_site_id.apply(\n",
    "    lambda site_id: update_interim_files(site_id.values[0], changed_raw_file=True), axis=1))\n",
    "\n",
    "all_done_changed_task = await asyncio.gather(*changed_file_tasks)"
   ]
  }
 ],
 "metadata": {
  "interpreter": {
   "hash": "9b5390c4f329d33128d36ddd47429a5f27ea3248c51e78947c863af06ac42f95"
  },
  "kernelspec": {
   "display_name": "Python 3.9.5 64-bit ('aqi': conda)",
   "name": "python3"
  },
  "language_info": {
   "codemirror_mode": {
    "name": "ipython",
    "version": 3
   },
   "file_extension": ".py",
   "mimetype": "text/x-python",
   "name": "python",
   "nbconvert_exporter": "python",
   "pygments_lexer": "ipython3",
   "version": "3.9.5"
  },
  "toc": {
   "base_numbering": 1,
   "nav_menu": {},
   "number_sections": true,
   "sideBar": true,
   "skip_h1_title": false,
   "title_cell": "Table of Contents",
   "title_sidebar": "Contents",
   "toc_cell": false,
   "toc_position": {},
   "toc_section_display": true,
   "toc_window_display": false
  },
  "varInspector": {
   "cols": {
    "lenName": 16,
    "lenType": 16,
    "lenVar": 40
   },
   "kernels_config": {
    "python": {
     "delete_cmd_postfix": "",
     "delete_cmd_prefix": "del ",
     "library": "var_list.py",
     "varRefreshCmd": "print(var_dic_list())"
    },
    "r": {
     "delete_cmd_postfix": ") ",
     "delete_cmd_prefix": "rm(",
     "library": "var_list.r",
     "varRefreshCmd": "cat(var_dic_list()) "
    }
   },
   "types_to_exclude": [
    "module",
    "function",
    "builtin_function_or_method",
    "instance",
    "_Feature"
   ],
   "window_display": true
  }
 },
 "nbformat": 4,
 "nbformat_minor": 4
}
