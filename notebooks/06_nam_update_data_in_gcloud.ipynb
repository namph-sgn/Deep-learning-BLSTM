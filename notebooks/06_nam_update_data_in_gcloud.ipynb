{
 "cells": [
  {
   "cell_type": "markdown",
   "metadata": {},
   "source": [
    "# Introduction\n",
    "State notebook purpose here"
   ]
  },
  {
   "cell_type": "markdown",
   "metadata": {},
   "source": [
    "### Get source folder and append to sys directory"
   ]
  },
  {
   "cell_type": "code",
   "execution_count": 1,
   "metadata": {},
   "outputs": [
    {
     "output_type": "stream",
     "name": "stdout",
     "text": [
      "/mnt/4ba37af6-51fd-47bc-8321-8c500c229114/study/School/KHOA LUAN TOT NGHIEP/runnable_program\n"
     ]
    }
   ],
   "source": [
    "from __future__ import print_function\n",
    "import os\n",
    "import sys\n",
    "PROJ_ROOT = os.path.join(os.pardir)\n",
    "print(os.path.abspath(PROJ_ROOT))\n",
    "src_dir = os.path.join(PROJ_ROOT, \"src\")\n",
    "sys.path.append(src_dir)\n",
    "# Data path example\n",
    "#pump_data_path = os.path.join(PROJ_ROOT,\n",
    "#                              \"data\",\n",
    "#                              \"raw\",\n",
    "#                              \"pumps_train_values.csv\")"
   ]
  },
  {
   "cell_type": "markdown",
   "metadata": {},
   "source": [
    "### Imports\n",
    "Import libraries and write settings here."
   ]
  },
  {
   "cell_type": "code",
   "execution_count": 2,
   "metadata": {},
   "outputs": [],
   "source": [
    "# Data manipulation\n",
    "import matplotlib.pyplot as plt\n",
    "from IPython import get_ipython\n",
    "from IPython.core.interactiveshell import InteractiveShell\n",
    "import pandas as pd\n",
    "import numpy as np\n",
    "import feedparser\n",
    "from google.cloud import storage\n",
    "from io import StringIO\n",
    "\n",
    "os.environ[\"GOOGLE_APPLICATION_CREDENTIALS\"] = os.path.join(PROJ_ROOT, 'flask_app',\n",
    "                                                            \"flask-app-test-317210-0c49e7d7d9cb.json\")\n",
    "\n",
    "# Options for pandas\n",
    "pd.options.display.max_columns = 50\n",
    "pd.options.display.max_rows = 30\n",
    "# Display all cell outputs\n",
    "InteractiveShell.ast_node_interactivity = 'all'\n",
    "ipython = get_ipython()\n",
    "# autoreload extension\n",
    "if 'autoreload' not in ipython.extension_manager.loaded:\n",
    "    %load_ext autoreload\n",
    "%autoreload 1\n",
    "# Use %aimport module to reload each module\n",
    "\n",
    "# Visualizations"
   ]
  },
  {
   "cell_type": "markdown",
   "metadata": {},
   "source": [
    "# Analysis/Modeling\n",
    "Do work here"
   ]
  },
  {
   "cell_type": "code",
   "execution_count": 3,
   "metadata": {},
   "outputs": [],
   "source": [
    "def get_new_data():\n",
    "    feed = \"http://dosairnowdata.org/dos/RSS/HoChiMinhCity/HoChiMinhCity-PM2.5.xml\"\n",
    "    NewsFeed = feedparser.parse(feed)\n",
    "    train = pd.DataFrame.from_dict(NewsFeed, orient='index')\n",
    "    train2 = pd.DataFrame.from_dict(train.loc['entries', :].values[0])\n",
    "    train2 = train2[['title', 'aqi']]\n",
    "    train2.rename(columns={'title': 'time', 'aqi': 'AQI_h'}, inplace=True)\n",
    "    train2 = train2.astype({'time': 'datetime64[ns]', 'AQI_h': 'float'})\n",
    "    train2['site_id'] = 49\n",
    "    train2['time']\n",
    "    train2.set_index(['site_id', 'time'], inplace=True)\n",
    "    train2['AQI_h_label'] = categorize_AQI(train2['AQI_h'])\n",
    "    train2['AQI_h_I'] = train2['AQI_h_label'].cat.codes + 1\n",
    "    train2['Continous length'] = 0\n",
    "    return train2\n",
    "\n",
    "def get_past_data_from_bucket_as_dataframe():\n",
    "    \"\"\"Read a blob\"\"\"\n",
    "    bucket_name = \"deep_learning_model_bucket\"\n",
    "    blob_name = \"past_data.csv\"\n",
    "    \n",
    "    storage_client = storage.Client()\n",
    "\n",
    "    bucket = storage_client.bucket(bucket_name)\n",
    "    blob = bucket.blob(blob_name)\n",
    "\n",
    "    return_data = blob.download_as_text()\n",
    "    return_data = StringIO(return_data)\n",
    "    df = pd.read_csv(return_data, sep=\",\", header=0, index_col=False)\n",
    "    df = df.astype({'time': 'datetime64[ns]', 'AQI_h': 'float'})\n",
    "    df.set_index(['site_id', 'time'], inplace=True)\n",
    "    return df\n",
    "def concat_past_and_new_data():\n",
    "    idx = pd.IndexSlice\n",
    "    past_data = get_past_data_from_bucket_as_dataframe()\n",
    "    new_data = get_new_data()\n",
    "    max_past = past_data.index.get_level_values(1).max() + pd.Timedelta(hours=1)\n",
    "    max_new = data_df.index.get_level_values(1).max()\n",
    "    past_data = pd.concat([past_data, data_df.loc[idx[:, max_past:max_new], :]])\n",
    "    return past_data\n",
    "\n",
    "def delete_past_data_from_bucket():\n",
    "    bucket_name = \"deep_learning_model_bucket\"\n",
    "    blob_name = \"past_data.csv\"\n",
    "    \n",
    "    storage_client = storage.Client()\n",
    "\n",
    "    bucket = storage_client.bucket(bucket_name)\n",
    "    blob = bucket.blob(blob_name)\n",
    "\n",
    "    return_data = blob.delete()\n",
    "    print(return_data)\n",
    "    return \"Deleted\"\n",
    "def create_new_file_in_bucket():\n",
    "    bucket_name = \"deep_learning_model_bucket\"\n",
    "    blob_name = \"past_data.csv\"\n",
    "    \n",
    "    storage_client = storage.Client()\n",
    "\n",
    "    bucket = storage_client.bucket(bucket_name)\n",
    "    blob = bucket.blob(blob_name)\n",
    "\n",
    "    return_data = blob.upload_from_filename('test.csv')\n",
    "    print(return_data)\n",
    "    return \"Created\"\n",
    "def categorize_AQI(AQI_data):\n",
    "    \"\"\"\n",
    "    Input: Series of AQI_values\n",
    "    Output: Series of AQI category\n",
    "    7 categories [Good, Moderate, Unhealthy for Sensitive, Unhealthy, Very Unhealthy, Hazardous, Out of AQI]\n",
    "    range of categories [0-50, 51-100, 101-150, 151-200, 201-300, 301-500, >500]\n",
    "    \"\"\"\n",
    "    bins = [-1, 50, 100, 150, 200, 300, 500, np.inf]\n",
    "    labels = [\"Good\", \"Moderate\", \"Unhealthy for Sensitive\",\n",
    "              \"Unhealthy\", \"Very Unhealthy\", \"Hazardous\", \"Beyond AQI\"]\n",
    "    return pd.cut(AQI_data, bins=bins, labels=labels)"
   ]
  },
  {
   "cell_type": "code",
   "execution_count": 4,
   "metadata": {},
   "outputs": [],
   "source": [
    "# get data from newsfeed\n",
    "# read data from old file\n",
    "# delete old file\n",
    "# record new file with new data with same name\n",
    "# Ah, I get it, I need to make a HTTP call every hour in app engine"
   ]
  },
  {
   "cell_type": "code",
   "execution_count": 6,
   "metadata": {},
   "outputs": [],
   "source": [
    "data_df = get_new_data()\n",
    "past_data = get_past_data_from_bucket_as_dataframe()"
   ]
  },
  {
   "cell_type": "code",
   "execution_count": null,
   "metadata": {},
   "outputs": [],
   "source": [
    "# Get max time for past data\n",
    "# Get max time for new data\n",
    "# Get time from max_past to max_new\n",
    "# Update dataframe\n",
    "# Delete old data\n",
    "# Update file"
   ]
  },
  {
   "cell_type": "code",
   "execution_count": 12,
   "metadata": {},
   "outputs": [
    {
     "output_type": "stream",
     "name": "stdout",
     "text": [
      "None\n"
     ]
    },
    {
     "output_type": "execute_result",
     "data": {
      "text/plain": [
       "'Created'"
      ]
     },
     "metadata": {},
     "execution_count": 12
    }
   ],
   "source": [
    "new_data = get_data_for_prediction()\n",
    "past_data = get_past_data_from_bucket_as_dataframe()\n",
    "new_data.to_csv('test.csv')\n",
    "create_new_file_in_bucket()"
   ]
  },
  {
   "cell_type": "markdown",
   "metadata": {},
   "source": [
    "# Results\n",
    "Show graphs and stats here"
   ]
  },
  {
   "cell_type": "markdown",
   "metadata": {},
   "source": [
    "# Conclusions and Next Steps\n",
    "Summarize findings here"
   ]
  },
  {
   "cell_type": "code",
   "execution_count": null,
   "metadata": {},
   "outputs": [],
   "source": []
  }
 ],
 "metadata": {
  "kernelspec": {
   "name": "python3",
   "display_name": "Python 3.9.5 64-bit ('aqi': conda)"
  },
  "language_info": {
   "codemirror_mode": {
    "name": "ipython",
    "version": 3
   },
   "file_extension": ".py",
   "mimetype": "text/x-python",
   "name": "python",
   "nbconvert_exporter": "python",
   "pygments_lexer": "ipython3",
   "version": "3.9.5"
  },
  "toc": {
   "base_numbering": 1,
   "nav_menu": {},
   "number_sections": true,
   "sideBar": true,
   "skip_h1_title": false,
   "title_cell": "Table of Contents",
   "title_sidebar": "Contents",
   "toc_cell": false,
   "toc_position": {},
   "toc_section_display": true,
   "toc_window_display": false
  },
  "varInspector": {
   "cols": {
    "lenName": 16,
    "lenType": 16,
    "lenVar": 40
   },
   "kernels_config": {
    "python": {
     "delete_cmd_postfix": "",
     "delete_cmd_prefix": "del ",
     "library": "var_list.py",
     "varRefreshCmd": "print(var_dic_list())"
    },
    "r": {
     "delete_cmd_postfix": ") ",
     "delete_cmd_prefix": "rm(",
     "library": "var_list.r",
     "varRefreshCmd": "cat(var_dic_list()) "
    }
   },
   "types_to_exclude": [
    "module",
    "function",
    "builtin_function_or_method",
    "instance",
    "_Feature"
   ],
   "window_display": true
  },
  "interpreter": {
   "hash": "42a6f2126429ef925a6fad1ea37228e960d97f17ff7e5115d7c9932b5f26640c"
  }
 },
 "nbformat": 4,
 "nbformat_minor": 4
}