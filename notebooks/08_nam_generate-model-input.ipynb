{
 "cells": [
  {
   "cell_type": "markdown",
   "metadata": {},
   "source": [
    "# Introduction\n",
    "State notebook purpose here"
   ]
  },
  {
   "cell_type": "markdown",
   "metadata": {},
   "source": [
    "### Get source folder and append to sys directory"
   ]
  },
  {
   "cell_type": "code",
   "execution_count": 1,
   "metadata": {},
   "outputs": [
    {
     "output_type": "stream",
     "name": "stdout",
     "text": [
      "/mnt/4ba37af6-51fd-47bc-8321-8c500c229114/study/School/KHOA LUAN TOT NGHIEP/runnable_program\n"
     ]
    }
   ],
   "source": [
    "from __future__ import print_function\n",
    "import os\n",
    "import sys\n",
    "PROJ_ROOT = os.path.join(os.pardir)\n",
    "print(os.path.abspath(PROJ_ROOT))\n",
    "src_dir = os.path.join(PROJ_ROOT, \"src\")\n",
    "sys.path.append(src_dir)\n",
    "# Data path example\n",
    "#pump_data_path = os.path.join(PROJ_ROOT,\n",
    "#                              \"data\",\n",
    "#                              \"raw\",\n",
    "#                              \"pumps_train_values.csv\")"
   ]
  },
  {
   "cell_type": "markdown",
   "metadata": {},
   "source": [
    "### Imports\n",
    "Import libraries and write settings here."
   ]
  },
  {
   "cell_type": "code",
   "execution_count": 5,
   "metadata": {},
   "outputs": [],
   "source": [
    "# Data manipulation\n",
    "import pandas as pd\n",
    "import numpy as np\n",
    "import tensorflow as tf\n",
    "import sklearn\n",
    "from tensorflow import keras\n",
    "from tensorflow.keras import layers\n",
    "import glob\n",
    "import xarray as xr\n",
    "from sklearn.preprocessing import MinMaxScaler\n",
    "import holidays\n",
    "\n",
    "# Options for pandas\n",
    "pd.options.display.max_columns = 50\n",
    "pd.options.display.max_rows = 30\n",
    "# Display all cell outputs\n",
    "from IPython.core.interactiveshell import InteractiveShell\n",
    "InteractiveShell.ast_node_interactivity = 'all'\n",
    "from IPython import get_ipython\n",
    "ipython = get_ipython()\n",
    "# autoreload extension\n",
    "if 'autoreload' not in ipython.extension_manager.loaded:\n",
    "    %load_ext autoreload\n",
    "%autoreload 1\n",
    "# Use %aimport module to reload each module\n",
    "\n",
    "# Extract Data\n",
    "# %aimport features.extract_features\n",
    "from features import extract_features\n",
    "%aimport data.create_input_for_models\n",
    "from data import create_load_transform_processed_data, create_input_for_models\n",
    "# Make dataset\n",
    "\n",
    "# Visualizations\n",
    "import matplotlib.pyplot as plt"
   ]
  },
  {
   "cell_type": "markdown",
   "metadata": {},
   "source": [
    "# Analysis/Modeling\n",
    "Do work here"
   ]
  },
  {
   "cell_type": "markdown",
   "metadata": {},
   "source": [
    "### Get interim data"
   ]
  },
  {
   "cell_type": "code",
   "execution_count": 3,
   "metadata": {},
   "outputs": [
    {
     "output_type": "stream",
     "name": "stdout",
     "text": [
      "Currently processing file \n",
      "../data/interim/30.csv\n",
      "Currently processing file \n",
      "../data/interim/9.csv\n",
      "Currently processing file \n",
      "../data/interim/32.csv\n",
      "Currently processing file \n",
      "../data/interim/11.csv\n",
      "Currently processing file \n",
      "../data/interim/40.csv\n",
      "Currently processing file \n",
      "../data/interim/28.csv\n",
      "Currently processing file \n",
      "../data/interim/49.csv\n",
      "Currently processing file \n",
      "../data/interim/46.csv\n",
      "Currently processing file \n",
      "../data/interim/10.csv\n",
      "Currently processing file \n",
      "../data/interim/8.csv\n",
      "Currently processing file \n",
      "../data/interim/25.csv\n",
      "Currently processing file \n",
      "../data/interim/7.csv\n",
      "Currently processing file \n",
      "../data/interim/16.csv\n",
      "Currently processing file \n",
      "../data/interim/42.csv\n",
      "Currently processing file \n",
      "../data/interim/44.csv\n",
      "Currently processing file \n",
      "../data/interim/37.csv\n",
      "Currently processing file \n",
      "../data/interim/1.csv\n",
      "Currently processing file \n",
      "../data/interim/13.csv\n",
      "Currently processing file \n",
      "../data/interim/31.csv\n",
      "Currently processing file \n",
      "../data/interim/26.csv\n",
      "Currently processing file \n",
      "../data/interim/12.csv\n",
      "Currently processing file \n",
      "../data/interim/15.csv\n",
      "Currently processing file \n",
      "../data/interim/39.csv\n",
      "Currently processing file \n",
      "../data/interim/14.csv\n",
      "Currently processing file \n",
      "../data/interim/47.csv\n",
      "Currently processing file \n",
      "../data/interim/48.csv\n",
      "Currently processing file \n",
      "../data/interim/33.csv\n",
      "Currently processing file \n",
      "../data/interim/27.csv\n",
      "Currently processing file \n",
      "../data/interim/41.csv\n",
      "Currently processing file \n",
      "../data/interim/24.csv\n",
      "Currently processing file \n",
      "../data/interim/35.csv\n",
      "Currently processing file \n",
      "../data/interim/43.csv\n",
      "Currently processing file \n",
      "../data/interim/45.csv\n",
      "Currently processing file \n",
      "../data/interim/34.csv\n",
      "Currently processing file \n",
      "../data/interim/29.csv\n",
      "Currently processing file \n",
      "../data/interim/38.csv\n",
      "Currently processing file \n",
      "../data/interim/36.csv\n"
     ]
    }
   ],
   "source": [
    "_interim_data_path = os.path.join(PROJ_ROOT,\n",
    "                                  \"data\",\n",
    "                                  \"interim\")\n",
    "_interim_files = glob.glob(_interim_data_path + '/*.csv')\n",
    "\n",
    "interim_df = pd.DataFrame()\n",
    "for file in _interim_files:\n",
    "    print('Currently processing file \\n{}'.format(file))\n",
    "    interim_df = interim_df.append(pd.read_csv(file, parse_dates=True, index_col=['site_id', 'time'],\n",
    "                                                     dtype={'CO': np.float64, 'NO2': np.float64, 'PM25': np.float64,\n",
    "                                                            'AQI_h': np.float64, 'AQI_h_I': np.int, 'site_id': np.int}))\n",
    "# Site 16 have many inconsistency in data so we remove it\n",
    "interim_df = interim_df[(interim_df.index.get_level_values(0) != 16)]\n",
    "# Get only columns we need\n",
    "interim_df = interim_df[['PM25', 'AQI_h', 'AQI_h_Polutant', 'AQI_h_I',\n",
    "       'AQI_h_label', 'Continous length']]\n",
    "# Ho Chi Minh data is on site 49\n",
    "hanoi_df = interim_df[(interim_df.index.get_level_values(0) != 49)].copy()\n",
    "hcm_df = interim_df[(interim_df.index.get_level_values(0) == 49)].copy()"
   ]
  },
  {
   "cell_type": "code",
   "execution_count": 4,
   "metadata": {},
   "outputs": [
    {
     "output_type": "execute_result",
     "data": {
      "text/plain": [
       "                             PM25  AQI_h AQI_h_Polutant  AQI_h_I AQI_h_label  \\\n",
       "site_id time                                                                   \n",
       "49      2021-07-01 02:00:00  31.0   31.0           PM25        1        Good   \n",
       "        2021-07-01 03:00:00  31.0   31.0           PM25        1        Good   \n",
       "        2021-07-01 04:00:00  31.0   31.0           PM25        1        Good   \n",
       "        2021-07-01 05:00:00  24.0   24.0           PM25        1        Good   \n",
       "        2021-07-01 06:00:00  28.0   28.0           PM25        1        Good   \n",
       "...                           ...    ...            ...      ...         ...   \n",
       "        2021-07-19 20:00:00  36.0   36.0           PM25        1        Good   \n",
       "        2021-07-19 21:00:00  32.0   32.0           PM25        1        Good   \n",
       "        2021-07-19 22:00:00  29.0   29.0           PM25        1        Good   \n",
       "        2021-07-19 23:00:00  22.0   22.0           PM25        1        Good   \n",
       "        2021-07-20 00:00:00  15.0   15.0           PM25        1        Good   \n",
       "\n",
       "                             Continous length  \n",
       "site_id time                                   \n",
       "49      2021-07-01 02:00:00             148.0  \n",
       "        2021-07-01 03:00:00               0.0  \n",
       "        2021-07-01 04:00:00               0.0  \n",
       "        2021-07-01 05:00:00               0.0  \n",
       "        2021-07-01 06:00:00               0.0  \n",
       "...                                       ...  \n",
       "        2021-07-19 20:00:00               0.0  \n",
       "        2021-07-19 21:00:00               0.0  \n",
       "        2021-07-19 22:00:00               0.0  \n",
       "        2021-07-19 23:00:00               0.0  \n",
       "        2021-07-20 00:00:00               0.0  \n",
       "\n",
       "[439 rows x 6 columns]"
      ],
      "text/html": "<div>\n<style scoped>\n    .dataframe tbody tr th:only-of-type {\n        vertical-align: middle;\n    }\n\n    .dataframe tbody tr th {\n        vertical-align: top;\n    }\n\n    .dataframe thead th {\n        text-align: right;\n    }\n</style>\n<table border=\"1\" class=\"dataframe\">\n  <thead>\n    <tr style=\"text-align: right;\">\n      <th></th>\n      <th></th>\n      <th>PM25</th>\n      <th>AQI_h</th>\n      <th>AQI_h_Polutant</th>\n      <th>AQI_h_I</th>\n      <th>AQI_h_label</th>\n      <th>Continous length</th>\n    </tr>\n    <tr>\n      <th>site_id</th>\n      <th>time</th>\n      <th></th>\n      <th></th>\n      <th></th>\n      <th></th>\n      <th></th>\n      <th></th>\n    </tr>\n  </thead>\n  <tbody>\n    <tr>\n      <th rowspan=\"11\" valign=\"top\">49</th>\n      <th>2021-07-01 02:00:00</th>\n      <td>31.0</td>\n      <td>31.0</td>\n      <td>PM25</td>\n      <td>1</td>\n      <td>Good</td>\n      <td>148.0</td>\n    </tr>\n    <tr>\n      <th>2021-07-01 03:00:00</th>\n      <td>31.0</td>\n      <td>31.0</td>\n      <td>PM25</td>\n      <td>1</td>\n      <td>Good</td>\n      <td>0.0</td>\n    </tr>\n    <tr>\n      <th>2021-07-01 04:00:00</th>\n      <td>31.0</td>\n      <td>31.0</td>\n      <td>PM25</td>\n      <td>1</td>\n      <td>Good</td>\n      <td>0.0</td>\n    </tr>\n    <tr>\n      <th>2021-07-01 05:00:00</th>\n      <td>24.0</td>\n      <td>24.0</td>\n      <td>PM25</td>\n      <td>1</td>\n      <td>Good</td>\n      <td>0.0</td>\n    </tr>\n    <tr>\n      <th>2021-07-01 06:00:00</th>\n      <td>28.0</td>\n      <td>28.0</td>\n      <td>PM25</td>\n      <td>1</td>\n      <td>Good</td>\n      <td>0.0</td>\n    </tr>\n    <tr>\n      <th>...</th>\n      <td>...</td>\n      <td>...</td>\n      <td>...</td>\n      <td>...</td>\n      <td>...</td>\n      <td>...</td>\n    </tr>\n    <tr>\n      <th>2021-07-19 20:00:00</th>\n      <td>36.0</td>\n      <td>36.0</td>\n      <td>PM25</td>\n      <td>1</td>\n      <td>Good</td>\n      <td>0.0</td>\n    </tr>\n    <tr>\n      <th>2021-07-19 21:00:00</th>\n      <td>32.0</td>\n      <td>32.0</td>\n      <td>PM25</td>\n      <td>1</td>\n      <td>Good</td>\n      <td>0.0</td>\n    </tr>\n    <tr>\n      <th>2021-07-19 22:00:00</th>\n      <td>29.0</td>\n      <td>29.0</td>\n      <td>PM25</td>\n      <td>1</td>\n      <td>Good</td>\n      <td>0.0</td>\n    </tr>\n    <tr>\n      <th>2021-07-19 23:00:00</th>\n      <td>22.0</td>\n      <td>22.0</td>\n      <td>PM25</td>\n      <td>1</td>\n      <td>Good</td>\n      <td>0.0</td>\n    </tr>\n    <tr>\n      <th>2021-07-20 00:00:00</th>\n      <td>15.0</td>\n      <td>15.0</td>\n      <td>PM25</td>\n      <td>1</td>\n      <td>Good</td>\n      <td>0.0</td>\n    </tr>\n  </tbody>\n</table>\n<p>439 rows × 6 columns</p>\n</div>"
     },
     "metadata": {},
     "execution_count": 4
    }
   ],
   "source": [
    "hcm_df"
   ]
  },
  {
   "cell_type": "markdown",
   "metadata": {},
   "source": [
    "### Create input for model from interim data and put in to processed"
   ]
  },
  {
   "cell_type": "code",
   "execution_count": 4,
   "metadata": {
    "tags": []
   },
   "outputs": [
    {
     "output_type": "stream",
     "name": "stdout",
     "text": [
      "[1, 2, 3, 4, 5]\n",
      "Feature shape:  (4722, 5, 34)\n",
      "Label shape:  (4722,)\n",
      "Data array:\n",
      "shape of arr:  (4722, 5, 34)\n",
      "shape of loaded_array:  (4722, 5, 34)\n",
      "Yes, both the arrays are same\n",
      "Label array:\n",
      "shape of arr:  (4722,)\n",
      "shape of loaded_array:  (4722,)\n",
      "Yes, both the arrays are same\n",
      "Feature shape:  (4219, 5, 34)\n",
      "Label shape:  (4219,)\n",
      "Data array:\n",
      "shape of arr:  (4219, 5, 34)\n",
      "shape of loaded_array:  (4219, 5, 34)\n",
      "Yes, both the arrays are same\n",
      "Label array:\n",
      "shape of arr:  (4219,)\n",
      "shape of loaded_array:  (4219,)\n",
      "Yes, both the arrays are same\n",
      "Feature shape:  (36945, 5, 34)\n",
      "Label shape:  (36945,)\n",
      "Data array:\n",
      "shape of arr:  (36945, 5, 34)\n",
      "shape of loaded_array:  (36945, 5, 34)\n",
      "Yes, both the arrays are same\n",
      "Label array:\n",
      "shape of arr:  (36945,)\n",
      "shape of loaded_array:  (36945,)\n",
      "Yes, both the arrays are same\n",
      "Feature shape:  (4721, 5, 34)\n",
      "Label shape:  (4721,)\n",
      "Data array:\n",
      "shape of arr:  (4721, 5, 34)\n",
      "shape of loaded_array:  (4721, 5, 34)\n",
      "Yes, both the arrays are same\n",
      "Label array:\n",
      "shape of arr:  (4721,)\n",
      "shape of loaded_array:  (4721,)\n",
      "Yes, both the arrays are same\n",
      "Feature shape:  (4217, 5, 34)\n",
      "Label shape:  (4217,)\n",
      "Data array:\n",
      "shape of arr:  (4217, 5, 34)\n",
      "shape of loaded_array:  (4217, 5, 34)\n",
      "Yes, both the arrays are same\n",
      "Label array:\n",
      "shape of arr:  (4217,)\n",
      "shape of loaded_array:  (4217,)\n",
      "Yes, both the arrays are same\n",
      "Feature shape:  (36920, 5, 34)\n",
      "Label shape:  (36920,)\n",
      "Data array:\n",
      "shape of arr:  (36920, 5, 34)\n",
      "shape of loaded_array:  (36920, 5, 34)\n",
      "Yes, both the arrays are same\n",
      "Label array:\n",
      "shape of arr:  (36920,)\n",
      "shape of loaded_array:  (36920,)\n",
      "Yes, both the arrays are same\n",
      "Feature shape:  (4720, 5, 34)\n",
      "Label shape:  (4720,)\n",
      "Data array:\n",
      "shape of arr:  (4720, 5, 34)\n",
      "shape of loaded_array:  (4720, 5, 34)\n",
      "Yes, both the arrays are same\n",
      "Label array:\n",
      "shape of arr:  (4720,)\n",
      "shape of loaded_array:  (4720,)\n",
      "Yes, both the arrays are same\n",
      "Feature shape:  (4215, 5, 34)\n",
      "Label shape:  (4215,)\n",
      "Data array:\n",
      "shape of arr:  (4215, 5, 34)\n",
      "shape of loaded_array:  (4215, 5, 34)\n",
      "Yes, both the arrays are same\n",
      "Label array:\n",
      "shape of arr:  (4215,)\n",
      "shape of loaded_array:  (4215,)\n",
      "Yes, both the arrays are same\n",
      "Feature shape:  (36896, 5, 34)\n",
      "Label shape:  (36896,)\n",
      "Data array:\n",
      "shape of arr:  (36896, 5, 34)\n",
      "shape of loaded_array:  (36896, 5, 34)\n",
      "Yes, both the arrays are same\n",
      "Label array:\n",
      "shape of arr:  (36896,)\n",
      "shape of loaded_array:  (36896,)\n",
      "Yes, both the arrays are same\n",
      "Feature shape:  (4719, 5, 34)\n",
      "Label shape:  (4719,)\n",
      "Data array:\n",
      "shape of arr:  (4719, 5, 34)\n",
      "shape of loaded_array:  (4719, 5, 34)\n",
      "Yes, both the arrays are same\n",
      "Label array:\n",
      "shape of arr:  (4719,)\n",
      "shape of loaded_array:  (4719,)\n",
      "Yes, both the arrays are same\n",
      "Feature shape:  (4213, 5, 34)\n",
      "Label shape:  (4213,)\n",
      "Data array:\n",
      "shape of arr:  (4213, 5, 34)\n",
      "shape of loaded_array:  (4213, 5, 34)\n",
      "Yes, both the arrays are same\n",
      "Label array:\n",
      "shape of arr:  (4213,)\n",
      "shape of loaded_array:  (4213,)\n",
      "Yes, both the arrays are same\n",
      "Feature shape:  (36872, 5, 34)\n",
      "Label shape:  (36872,)\n",
      "Data array:\n",
      "shape of arr:  (36872, 5, 34)\n",
      "shape of loaded_array:  (36872, 5, 34)\n",
      "Yes, both the arrays are same\n",
      "Label array:\n",
      "shape of arr:  (36872,)\n",
      "shape of loaded_array:  (36872,)\n",
      "Yes, both the arrays are same\n",
      "Feature shape:  (4718, 5, 34)\n",
      "Label shape:  (4718,)\n",
      "Data array:\n",
      "shape of arr:  (4718, 5, 34)\n",
      "shape of loaded_array:  (4718, 5, 34)\n",
      "Yes, both the arrays are same\n",
      "Label array:\n",
      "shape of arr:  (4718,)\n",
      "shape of loaded_array:  (4718,)\n",
      "Yes, both the arrays are same\n",
      "Feature shape:  (4211, 5, 34)\n",
      "Label shape:  (4211,)\n",
      "Data array:\n",
      "shape of arr:  (4211, 5, 34)\n",
      "shape of loaded_array:  (4211, 5, 34)\n",
      "Yes, both the arrays are same\n",
      "Label array:\n",
      "shape of arr:  (4211,)\n",
      "shape of loaded_array:  (4211,)\n",
      "Yes, both the arrays are same\n",
      "Feature shape:  (36848, 5, 34)\n",
      "Label shape:  (36848,)\n",
      "Data array:\n",
      "shape of arr:  (36848, 5, 34)\n",
      "shape of loaded_array:  (36848, 5, 34)\n",
      "Yes, both the arrays are same\n",
      "Label array:\n",
      "shape of arr:  (36848,)\n",
      "shape of loaded_array:  (36848,)\n",
      "Yes, both the arrays are same\n",
      "Input have been created\n"
     ]
    }
   ],
   "source": [
    "_model_input_data_path = os.path.join(PROJ_ROOT,\n",
    "                                   \"data\",\n",
    "                                   \"model_input\")\n",
    "target_hour = [1, 2, 3, 4, 5]\n",
    "timesteps = [5]\n",
    "train, y_train = create_input_for_models.create(hcm_df, timesteps=timesteps, target_hour=target_hour, test_output=True, dev_output=True, output_path=_model_input_data_path, PROJ_ROOT=PROJ_ROOT)"
   ]
  },
  {
   "cell_type": "code",
   "execution_count": 8,
   "metadata": {},
   "outputs": [],
   "source": [
    "import joblib\n",
    "_scaler_input_data_path = os.path.join(PROJ_ROOT,\n",
    "                                   \"data\",\n",
    "                                   \"model_input\",\n",
    "                                   \"final_hcm_05\",\n",
    "                                   \"scaler.pkl\")\n",
    "scaler = joblib.load(_scaler_input_data_path)"
   ]
  },
  {
   "cell_type": "code",
   "execution_count": 9,
   "metadata": {},
   "outputs": [
    {
     "output_type": "execute_result",
     "data": {
      "text/plain": [
       "                             PM25     AQI_h AQI_h_Polutant  AQI_h_I  \\\n",
       "site_id time                                                          \n",
       "49      2021-07-01 02:00:00  31.0 -0.778626           PM25        1   \n",
       "        2021-07-01 03:00:00  31.0 -0.778626           PM25        1   \n",
       "        2021-07-01 04:00:00  31.0 -0.778626           PM25        1   \n",
       "        2021-07-01 05:00:00  24.0 -0.832061           PM25        1   \n",
       "        2021-07-01 06:00:00  28.0 -0.801527           PM25        1   \n",
       "...                           ...       ...            ...      ...   \n",
       "        2021-07-19 20:00:00  36.0 -0.740458           PM25        1   \n",
       "        2021-07-19 21:00:00  32.0 -0.770992           PM25        1   \n",
       "        2021-07-19 22:00:00  29.0 -0.793893           PM25        1   \n",
       "        2021-07-19 23:00:00  22.0 -0.847328           PM25        1   \n",
       "        2021-07-20 00:00:00  15.0 -0.900763           PM25        1   \n",
       "\n",
       "                            AQI_h_label  Continous length  \n",
       "site_id time                                               \n",
       "49      2021-07-01 02:00:00        Good             148.0  \n",
       "        2021-07-01 03:00:00        Good               0.0  \n",
       "        2021-07-01 04:00:00        Good               0.0  \n",
       "        2021-07-01 05:00:00        Good               0.0  \n",
       "        2021-07-01 06:00:00        Good               0.0  \n",
       "...                                 ...               ...  \n",
       "        2021-07-19 20:00:00        Good               0.0  \n",
       "        2021-07-19 21:00:00        Good               0.0  \n",
       "        2021-07-19 22:00:00        Good               0.0  \n",
       "        2021-07-19 23:00:00        Good               0.0  \n",
       "        2021-07-20 00:00:00        Good               0.0  \n",
       "\n",
       "[439 rows x 6 columns]"
      ],
      "text/html": "<div>\n<style scoped>\n    .dataframe tbody tr th:only-of-type {\n        vertical-align: middle;\n    }\n\n    .dataframe tbody tr th {\n        vertical-align: top;\n    }\n\n    .dataframe thead th {\n        text-align: right;\n    }\n</style>\n<table border=\"1\" class=\"dataframe\">\n  <thead>\n    <tr style=\"text-align: right;\">\n      <th></th>\n      <th></th>\n      <th>PM25</th>\n      <th>AQI_h</th>\n      <th>AQI_h_Polutant</th>\n      <th>AQI_h_I</th>\n      <th>AQI_h_label</th>\n      <th>Continous length</th>\n    </tr>\n    <tr>\n      <th>site_id</th>\n      <th>time</th>\n      <th></th>\n      <th></th>\n      <th></th>\n      <th></th>\n      <th></th>\n      <th></th>\n    </tr>\n  </thead>\n  <tbody>\n    <tr>\n      <th rowspan=\"11\" valign=\"top\">49</th>\n      <th>2021-07-01 02:00:00</th>\n      <td>31.0</td>\n      <td>-0.778626</td>\n      <td>PM25</td>\n      <td>1</td>\n      <td>Good</td>\n      <td>148.0</td>\n    </tr>\n    <tr>\n      <th>2021-07-01 03:00:00</th>\n      <td>31.0</td>\n      <td>-0.778626</td>\n      <td>PM25</td>\n      <td>1</td>\n      <td>Good</td>\n      <td>0.0</td>\n    </tr>\n    <tr>\n      <th>2021-07-01 04:00:00</th>\n      <td>31.0</td>\n      <td>-0.778626</td>\n      <td>PM25</td>\n      <td>1</td>\n      <td>Good</td>\n      <td>0.0</td>\n    </tr>\n    <tr>\n      <th>2021-07-01 05:00:00</th>\n      <td>24.0</td>\n      <td>-0.832061</td>\n      <td>PM25</td>\n      <td>1</td>\n      <td>Good</td>\n      <td>0.0</td>\n    </tr>\n    <tr>\n      <th>2021-07-01 06:00:00</th>\n      <td>28.0</td>\n      <td>-0.801527</td>\n      <td>PM25</td>\n      <td>1</td>\n      <td>Good</td>\n      <td>0.0</td>\n    </tr>\n    <tr>\n      <th>...</th>\n      <td>...</td>\n      <td>...</td>\n      <td>...</td>\n      <td>...</td>\n      <td>...</td>\n      <td>...</td>\n    </tr>\n    <tr>\n      <th>2021-07-19 20:00:00</th>\n      <td>36.0</td>\n      <td>-0.740458</td>\n      <td>PM25</td>\n      <td>1</td>\n      <td>Good</td>\n      <td>0.0</td>\n    </tr>\n    <tr>\n      <th>2021-07-19 21:00:00</th>\n      <td>32.0</td>\n      <td>-0.770992</td>\n      <td>PM25</td>\n      <td>1</td>\n      <td>Good</td>\n      <td>0.0</td>\n    </tr>\n    <tr>\n      <th>2021-07-19 22:00:00</th>\n      <td>29.0</td>\n      <td>-0.793893</td>\n      <td>PM25</td>\n      <td>1</td>\n      <td>Good</td>\n      <td>0.0</td>\n    </tr>\n    <tr>\n      <th>2021-07-19 23:00:00</th>\n      <td>22.0</td>\n      <td>-0.847328</td>\n      <td>PM25</td>\n      <td>1</td>\n      <td>Good</td>\n      <td>0.0</td>\n    </tr>\n    <tr>\n      <th>2021-07-20 00:00:00</th>\n      <td>15.0</td>\n      <td>-0.900763</td>\n      <td>PM25</td>\n      <td>1</td>\n      <td>Good</td>\n      <td>0.0</td>\n    </tr>\n  </tbody>\n</table>\n<p>439 rows × 6 columns</p>\n</div>"
     },
     "metadata": {},
     "execution_count": 9
    }
   ],
   "source": [
    "hcm_df[['AQI_h']] = scaler.transform(hcm_df[['AQI_h']])\n",
    "hcm_df"
   ]
  },
  {
   "cell_type": "code",
   "execution_count": 12,
   "metadata": {},
   "outputs": [
    {
     "output_type": "stream",
     "name": "stdout",
     "text": [
      "[1]\n",
      "Feature shape:  (422, 5, 34)\n",
      "Label shape:  (422,)\n",
      "Data array:\n",
      "shape of arr:  (422, 5, 34)\n",
      "shape of loaded_array:  (422, 5, 34)\n",
      "Yes, both the arrays are same\n",
      "Label array:\n",
      "shape of arr:  (422,)\n",
      "shape of loaded_array:  (422,)\n",
      "Yes, both the arrays are same\n",
      "Input have been created\n"
     ]
    }
   ],
   "source": [
    "_model_input_data_path = os.path.join(PROJ_ROOT,\n",
    "                                   \"data\",\n",
    "                                   \"model_input\",\n",
    "                                   \"aqinow\",)\n",
    "target_hour = [1]\n",
    "timesteps = [5]\n",
    "train, y_train = create_input_for_models.create(hcm_df, timesteps=timesteps, target_hour=target_hour, test_output=False, dev_output=False, scale_data=False, output_path=_model_input_data_path, PROJ_ROOT=PROJ_ROOT)"
   ]
  },
  {
   "cell_type": "code",
   "execution_count": 8,
   "metadata": {},
   "outputs": [
    {
     "output_type": "execute_result",
     "data": {
      "text/plain": [
       "array([-0.648855  , -0.7251908 , -0.77862597, ..., -0.8015267 ,\n",
       "       -0.8167939 , -0.8015267 ], dtype=float32)"
      ]
     },
     "metadata": {},
     "execution_count": 8
    }
   ],
   "source": [
    "y_train"
   ]
  },
  {
   "cell_type": "markdown",
   "metadata": {},
   "source": [
    "# Results\n",
    "Show graphs and stats here"
   ]
  },
  {
   "cell_type": "markdown",
   "metadata": {},
   "source": [
    "# Conclusions and Next Steps\n",
    "Summarize findings here"
   ]
  }
 ],
 "metadata": {
  "kernelspec": {
   "name": "python3",
   "display_name": "Python 3.9.5 64-bit ('aqi': conda)"
  },
  "language_info": {
   "codemirror_mode": {
    "name": "ipython",
    "version": 3
   },
   "file_extension": ".py",
   "mimetype": "text/x-python",
   "name": "python",
   "nbconvert_exporter": "python",
   "pygments_lexer": "ipython3",
   "version": "3.9.5"
  },
  "toc": {
   "base_numbering": 1,
   "nav_menu": {},
   "number_sections": true,
   "sideBar": true,
   "skip_h1_title": false,
   "title_cell": "Table of Contents",
   "title_sidebar": "Contents",
   "toc_cell": false,
   "toc_position": {},
   "toc_section_display": true,
   "toc_window_display": false
  },
  "varInspector": {
   "cols": {
    "lenName": 16,
    "lenType": 16,
    "lenVar": 40
   },
   "kernels_config": {
    "python": {
     "delete_cmd_postfix": "",
     "delete_cmd_prefix": "del ",
     "library": "var_list.py",
     "varRefreshCmd": "print(var_dic_list())"
    },
    "r": {
     "delete_cmd_postfix": ") ",
     "delete_cmd_prefix": "rm(",
     "library": "var_list.r",
     "varRefreshCmd": "cat(var_dic_list()) "
    }
   },
   "types_to_exclude": [
    "module",
    "function",
    "builtin_function_or_method",
    "instance",
    "_Feature"
   ],
   "window_display": true
  },
  "interpreter": {
   "hash": "42a6f2126429ef925a6fad1ea37228e960d97f17ff7e5115d7c9932b5f26640c"
  }
 },
 "nbformat": 4,
 "nbformat_minor": 4
}